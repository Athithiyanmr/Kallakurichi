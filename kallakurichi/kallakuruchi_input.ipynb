{
 "cells": [
  {
   "cell_type": "code",
   "execution_count": 1,
   "id": "594fd137",
   "metadata": {},
   "outputs": [],
   "source": [
    "import Input_template\n",
    "from Input_template import *"
   ]
  },
  {
   "cell_type": "markdown",
   "id": "3a900401",
   "metadata": {},
   "source": [
    "### Boundary  "
   ]
  },
  {
   "cell_type": "code",
   "execution_count": 3,
   "id": "de1f90ee",
   "metadata": {},
   "outputs": [],
   "source": [
    "district_boundary = \"data/to_SPC_kallakurichi/Kallakurichi_District.shp\"\n",
    "taluk =\"data/to_SPC_kallakurichi/Kallakurichi_Taluk.shp\""
   ]
  },
  {
   "cell_type": "markdown",
   "id": "fc49fe9b",
   "metadata": {},
   "source": [
    "### Solar"
   ]
  },
  {
   "cell_type": "code",
   "execution_count": 5,
   "id": "706d617b",
   "metadata": {},
   "outputs": [],
   "source": [
    "theoritical = \"data/Kallakurichi/solar/_rl_pr_tem_br_elev_rd_wat_com_rdpx_th/LC_Solar_final_area_mask_1_Kallakurichi.shp\"\n",
    "technical =\"data/Kallakurichi/solar/_rl_pr_tem_br_elev_rd_wat_trans_ar_com_sub_rdpx_trsub_tech/LC_Solar_final_area_mask_1_Kallakurichi.shp\"\n",
    "high = \"data/Kallakurichi/solar/_rl_pr_tem_br_elev_rd_wat_trans_ar_com_sub_rdpx_trsub_trat_subat_rdat_ir_high/LC_Solar_final_area_mask_1_Kallakurichi.shp\"\n",
    "med  = \"data/Kallakurichi/solar/_rl_pr_tem_br_elev_rd_wat_trans_ar_com_sub_rdpx_trsub_trat_subat_rdat_ir_med/LC_Solar_final_area_mask_1_Kallakurichi.shp\""
   ]
  },
  {
   "cell_type": "markdown",
   "id": "3ee0713f",
   "metadata": {},
   "source": [
    "### Extra inputs"
   ]
  },
  {
   "cell_type": "code",
   "execution_count": 5,
   "id": "3afd2fdc",
   "metadata": {},
   "outputs": [],
   "source": [
    "substations = \"data/kallakurichi/list_substation_TN_corr.geojson/list_substation_TN_corr.shp\"\n",
    "railways = \"data/kallakurichi/railway/Railways.shp\"\n",
    "powerlines = \"data/kallakurichi/osm_powline_12.124301992294829_11.43735730765299_79.51368181527218_78.55045888340211.geojson\"\n",
    "cluster = \"data/Kallakurichi/output_urban_cluster.shp\"\n",
    "roads = \"data/Kallakurichi/output_osmroad_edges_12.124301992294829_11.43735730765299_79.51368181527218_78.55045888340211.geojson/edges.shp\""
   ]
  },
  {
   "cell_type": "code",
   "execution_count": null,
   "id": "65cc4cf1",
   "metadata": {},
   "outputs": [],
   "source": [
    "shp_land_cover =\"data/Kallakurichi/LULC/land_cover.shp\" ## common ununsed"
   ]
  },
  {
   "cell_type": "markdown",
   "id": "b163b056",
   "metadata": {},
   "source": [
    "### Raster layers\n"
   ]
  },
  {
   "cell_type": "code",
   "execution_count": 7,
   "id": "3daf12dc",
   "metadata": {},
   "outputs": [],
   "source": [
    "slope = \"data/Kallakurichi/DEM_T44_K_TN_proj32644_filled_slope.tif\"\n",
    "land_cover =\"data/Kallakurichi/LC_w_urban_w_waterbod_proj32644.tif\""
   ]
  },
  {
   "cell_type": "markdown",
   "id": "a20308d2",
   "metadata": {},
   "source": [
    "### Reserve forest shapefile"
   ]
  },
  {
   "cell_type": "code",
   "execution_count": 8,
   "id": "6e21d7d2",
   "metadata": {},
   "outputs": [],
   "source": [
    "shp_RF = read_df_UT(\"workdir/extra_inputs/shp_RF/shp_RF.shp\")"
   ]
  },
  {
   "cell_type": "code",
   "execution_count": 4,
   "id": "5edc86dd",
   "metadata": {},
   "outputs": [],
   "source": [
    "shp_district = read_df_UT(district_boundary)\n",
    "shp_taluk = read_df_UT(taluk)"
   ]
  },
  {
   "cell_type": "code",
   "execution_count": 13,
   "id": "859d4076",
   "metadata": {},
   "outputs": [],
   "source": [
    "shp_solar_theo = read_df_UT(theoritical)\n",
    "shp_solar_tech = read_df_UT(technical)\n",
    "shp_solar_high =read_df_UT(high)\n",
    "shp_solar_med = read_df_UT(med)\n",
    "shp_roads = read_df_UT(roads)"
   ]
  },
  {
   "cell_type": "code",
   "execution_count": 14,
   "id": "eb8bbe56",
   "metadata": {
    "scrolled": true
   },
   "outputs": [
    {
     "name": "stdout",
     "output_type": "stream",
     "text": [
      "theo: (78726, 12)\n",
      "tech: (2027, 12)\n",
      "high: (62, 32)\n",
      "med: (445, 32)\n"
     ]
    }
   ],
   "source": [
    "print(\"theo:\",shp_solar_theo.shape)\n",
    "print(\"tech:\",shp_solar_tech.shape)\n",
    "print(\"high:\",shp_solar_high.shape)\n",
    "print(\"med:\",shp_solar_med.shape)"
   ]
  },
  {
   "cell_type": "code",
   "execution_count": 16,
   "id": "10c82179",
   "metadata": {},
   "outputs": [],
   "source": [
    "shp_solar_theo = gpd.overlay(shp_district,shp_solar_theo,how =\"intersection\")\n",
    "shp_solar_tech = gpd.overlay(shp_district,shp_solar_tech,how =\"intersection\")\n",
    "shp_solar_high = gpd.overlay(shp_district,shp_solar_high,how =\"intersection\")\n",
    "shp_solar_med  = gpd.overlay(shp_district,shp_solar_med,how =\"intersection\")"
   ]
  },
  {
   "cell_type": "code",
   "execution_count": 17,
   "id": "cf50461b",
   "metadata": {},
   "outputs": [
    {
     "name": "stdout",
     "output_type": "stream",
     "text": [
      "theo: (77169, 24)\n",
      "tech: (1962, 24)\n",
      "high: (61, 44)\n",
      "med: (432, 44)\n"
     ]
    }
   ],
   "source": [
    "print(\"theo:\",shp_solar_theo.shape)\n",
    "print(\"tech:\",shp_solar_tech.shape)\n",
    "print(\"high:\",shp_solar_high.shape)\n",
    "print(\"med:\",shp_solar_med.shape)"
   ]
  },
  {
   "cell_type": "code",
   "execution_count": 18,
   "id": "43a894e7",
   "metadata": {},
   "outputs": [],
   "source": [
    "shp_solar_theo = gpd.overlay(shp_solar_theo,shp_RF,how =\"difference\")\n",
    "shp_solar_tech = gpd.overlay(shp_solar_tech,shp_RF,how =\"difference\")\n",
    "shp_solar_high = gpd.overlay(shp_solar_high,shp_RF,how =\"difference\")\n",
    "shp_solar_med  = gpd.overlay(shp_solar_med,shp_RF,how =\"difference\")"
   ]
  },
  {
   "cell_type": "code",
   "execution_count": 19,
   "id": "bcbb277b",
   "metadata": {},
   "outputs": [
    {
     "name": "stdout",
     "output_type": "stream",
     "text": [
      "theo: (76201, 24)\n",
      "tech: (1926, 24)\n",
      "high: (58, 44)\n",
      "med: (424, 44)\n"
     ]
    }
   ],
   "source": [
    "print(\"theo:\",shp_solar_theo.shape)\n",
    "print(\"tech:\",shp_solar_tech.shape)\n",
    "print(\"high:\",shp_solar_high.shape)\n",
    "print(\"med:\",shp_solar_med.shape)"
   ]
  },
  {
   "cell_type": "code",
   "execution_count": 21,
   "id": "0aac430a",
   "metadata": {
    "collapsed": true
   },
   "outputs": [
    {
     "name": "stderr",
     "output_type": "stream",
     "text": [
      "C:\\Users\\User\\AppData\\Local\\Temp\\ipykernel_1164\\883173341.py:1: FutureWarning: Currently, index_parts defaults to True, but in the future, it will default to False to be consistent with Pandas. Use `index_parts=True` to keep the current behavior and True/False to silence the warning.\n",
      "  shp_solar_theo = shp_solar_theo.explode()\n",
      "C:\\Users\\User\\AppData\\Local\\Temp\\ipykernel_1164\\883173341.py:2: FutureWarning: Currently, index_parts defaults to True, but in the future, it will default to False to be consistent with Pandas. Use `index_parts=True` to keep the current behavior and True/False to silence the warning.\n",
      "  shp_solar_tech = shp_solar_tech.explode()\n",
      "C:\\Users\\User\\AppData\\Local\\Temp\\ipykernel_1164\\883173341.py:3: FutureWarning: Currently, index_parts defaults to True, but in the future, it will default to False to be consistent with Pandas. Use `index_parts=True` to keep the current behavior and True/False to silence the warning.\n",
      "  shp_solar_high = shp_solar_high.explode()\n",
      "C:\\Users\\User\\AppData\\Local\\Temp\\ipykernel_1164\\883173341.py:4: FutureWarning: Currently, index_parts defaults to True, but in the future, it will default to False to be consistent with Pandas. Use `index_parts=True` to keep the current behavior and True/False to silence the warning.\n",
      "  shp_solar_med  = shp_solar_med.explode()\n"
     ]
    }
   ],
   "source": [
    "shp_solar_theo = shp_solar_theo.explode()\n",
    "shp_solar_tech = shp_solar_tech.explode()\n",
    "shp_solar_high = shp_solar_high.explode()\n",
    "shp_solar_med  = shp_solar_med.explode()"
   ]
  },
  {
   "cell_type": "code",
   "execution_count": 22,
   "id": "05f62d04",
   "metadata": {},
   "outputs": [],
   "source": [
    "shp_solar_theo.reset_index(inplace =True,drop =True)\n",
    "shp_solar_tech.reset_index(inplace =True,drop =True)\n",
    "shp_solar_high.reset_index(inplace =True,drop =True)\n",
    "shp_solar_med.reset_index(inplace =True,drop =True)"
   ]
  },
  {
   "cell_type": "code",
   "execution_count": 56,
   "id": "88195d0b",
   "metadata": {},
   "outputs": [],
   "source": [
    "shp_solar_theo = add_area_and_class(shp_solar_theo)\n",
    "shp_solar_tech = add_area_and_class(shp_solar_tech)\n",
    "shp_solar_high = add_area_and_class(shp_solar_high)\n",
    "shp_solar_med = add_area_and_class(shp_solar_med)"
   ]
  },
  {
   "cell_type": "code",
   "execution_count": 58,
   "id": "99b2ac17",
   "metadata": {},
   "outputs": [],
   "source": [
    "shp_solar_tech = shp_solar_tech[shp_solar_tech[\"area_class\"] != \"D\"]\n",
    "shp_solar_high = shp_solar_high[shp_solar_high[\"area_class\"] == \"C\"]\n",
    "shp_solar_med = shp_solar_med[(shp_solar_med[\"area_class\"] != \"D\") & (shp_solar_med[\"area_class\"] != \"A\")]"
   ]
  },
  {
   "cell_type": "code",
   "execution_count": 59,
   "id": "9717d902",
   "metadata": {},
   "outputs": [
    {
     "name": "stdout",
     "output_type": "stream",
     "text": [
      "theo: (76574, 24)\n",
      "tech: (1830, 24)\n",
      "high: (40, 44)\n",
      "med: (357, 44)\n"
     ]
    }
   ],
   "source": [
    "print(\"theo:\",shp_solar_theo.shape)\n",
    "print(\"tech:\",shp_solar_tech.shape)\n",
    "print(\"high:\",shp_solar_high.shape)\n",
    "print(\"med:\",shp_solar_med.shape)"
   ]
  },
  {
   "cell_type": "code",
   "execution_count": 61,
   "id": "80f81ff8",
   "metadata": {},
   "outputs": [],
   "source": [
    "shp_solar_theo.reset_index(inplace =True,drop =True)\n",
    "shp_solar_tech.reset_index(inplace =True,drop =True)\n",
    "shp_solar_high.reset_index(inplace =True,drop =True)\n",
    "shp_solar_med.reset_index(inplace =True,drop =True)"
   ]
  },
  {
   "cell_type": "code",
   "execution_count": 62,
   "id": "134a944e",
   "metadata": {},
   "outputs": [
    {
     "data": {
      "text/plain": [
       "A    1426\n",
       "B     354\n",
       "C      50\n",
       "Name: area_class, dtype: int64"
      ]
     },
     "execution_count": 62,
     "metadata": {},
     "output_type": "execute_result"
    }
   ],
   "source": [
    "shp_solar_tech.area_class.value_counts()"
   ]
  },
  {
   "cell_type": "code",
   "execution_count": 63,
   "id": "3189766d",
   "metadata": {},
   "outputs": [],
   "source": [
    "S1 = shp_solar_tech[shp_solar_tech[\"area_class\"]==\"A\"]\n",
    "S2 = shp_solar_tech[shp_solar_tech[\"area_class\"]==\"B\"]\n",
    "S3 = shp_solar_tech[shp_solar_tech[\"area_class\"]==\"C\"]"
   ]
  },
  {
   "cell_type": "code",
   "execution_count": 64,
   "id": "e7638805",
   "metadata": {},
   "outputs": [],
   "source": [
    "S1.reset_index(inplace =True,drop =True)\n",
    "S2.reset_index(inplace =True,drop =True)\n",
    "S3.reset_index(inplace =True,drop =True)"
   ]
  },
  {
   "cell_type": "code",
   "execution_count": 65,
   "id": "c88db357",
   "metadata": {},
   "outputs": [],
   "source": [
    "# shp_solar_theo.to_file(get_in_workdir(\"solar/shp_solar_theo\"))\n",
    "# shp_solar_tech.to_file(get_in_workdir(\"solar/shp_solar_tech\"))\n",
    "# shp_solar_high.to_file(get_in_workdir(\"solar/shp_solar_high\"))\n",
    "# shp_solar_med.to_file(get_in_workdir(\"solar/shp_solar_med\"))"
   ]
  },
  {
   "cell_type": "code",
   "execution_count": 66,
   "id": "a44a89b6",
   "metadata": {},
   "outputs": [],
   "source": [
    "# S1.to_file(get_in_workdir(\"solar/S1\"))\n",
    "# S2.to_file(get_in_workdir(\"solar/S2\"))\n",
    "# S3.to_file(get_in_workdir(\"solar/S3\"))"
   ]
  },
  {
   "cell_type": "markdown",
   "id": "c41a3fbb",
   "metadata": {},
   "source": [
    "### Extra_inputs"
   ]
  },
  {
   "cell_type": "code",
   "execution_count": null,
   "id": "848bc0a0",
   "metadata": {},
   "outputs": [],
   "source": [
    "shp_taluk = gpd.overlay(shp_district,shp_taluk,how =\"intersection\")\n",
    "shp_taluk = add_area_and_class(shp_taluk)\n",
    "shp_taluk.reset_index(inplace =True,drop =True)\n",
    "# shp_taluk.to_file(get_in_workdir(\"extra_inputs/shp_taluk\"))"
   ]
  },
  {
   "cell_type": "code",
   "execution_count": 6,
   "id": "163511d6",
   "metadata": {},
   "outputs": [],
   "source": [
    "shp_cluster = read_df_UT(cluster)\n",
    "shp_cluster = gpd.overlay(shp_cluster,shp_district,how =\"intersection\")\n",
    "# shp_cluster.to_file(get_in_workdir(\"extra_inputs/shp_cluster\"))"
   ]
  },
  {
   "cell_type": "code",
   "execution_count": null,
   "id": "44b1b708",
   "metadata": {},
   "outputs": [],
   "source": [
    "shp_roads = read_df_UT(roads)\n",
    "shp_roads = gpd.overlay(shp_roads,shp_district,how =\"intersection\")\n",
    "shp_roads_primary  = shp_roads[shp_roads[\"highway\"]==\"primary\"]\n",
    "shp_roads_secondary = shp_roads[shp_roads[\"highway\"]==\"secondary\"]\n",
    "shp_roads_primary.reset_index(inplace =True,drop =True)\n",
    "shp_roads_secondary.reset_index(inplace =True,drop =True)\n",
    "shp_roads_primary[\"Type\"] = \"Primary roads\"\n",
    "shp_roads_secondary[\"Type\"] = \"Secondary roads\"\n",
    "shp_roads_primary= shp_roads_primary[[\"Type\",\"geometry\"]]\n",
    "shp_roads_secondary=shp_roads_secondary[[\"Type\",\"geometry\"]]\n",
    "# shp_roads_primary.to_file(get_in_workdir(\"extra_inputs/shp_roads_primary\"))\n",
    "# shp_roads_secondary.to_file(get_in_workdir(\"extra_inputs/shp_roads_secondary\"))"
   ]
  },
  {
   "cell_type": "code",
   "execution_count": 75,
   "id": "d4530add",
   "metadata": {},
   "outputs": [],
   "source": [
    "shp_powerlines = read_df_UT(powerlines)\n",
    "shp_powerlines = gpd.overlay(shp_powerlines,shp_district,how=\"intersection\")\n",
    "# shp_powerlines.to_file(get_in_workdir(\"extra_inputs/shp_powerlines\"))"
   ]
  },
  {
   "cell_type": "code",
   "execution_count": 23,
   "id": "861e33a1",
   "metadata": {},
   "outputs": [],
   "source": [
    "shp_railways = read_df_UT(railways)\n",
    "shp_railways = gpd.overlay(shp_railways,shp_district,how =\"intersection\")\n",
    "shp_railways[\"Type\"] = \"Railway lines\"\n",
    "shp_railways = shp_railways[[\"Type\",\"geometry\"]]\n",
    "# shp_railways.to_file(get_in_workdir(\"extra_inputs/shp_railways\"))"
   ]
  },
  {
   "cell_type": "code",
   "execution_count": 24,
   "id": "c64df980",
   "metadata": {},
   "outputs": [],
   "source": [
    "shp_accessibilty = pd.concat([shp_roads_primary,shp_roads_secondary,shp_railways],ignore_index=True)\n",
    "# shp_accessibilty.to_file(get_in_workdir(\"extra_inputs/shp_accessibilty\"))"
   ]
  },
  {
   "cell_type": "code",
   "execution_count": 89,
   "id": "dec5de52",
   "metadata": {},
   "outputs": [],
   "source": [
    "shp_substations = read_df_UT(substations)\n",
    "shp_substations = gpd.overlay(shp_substations,shp_district,how =\"intersection\")\n",
    "# shp_substations.to_file(get_in_workdir(\"extra_inputs/shp_substations\"))"
   ]
  },
  {
   "cell_type": "markdown",
   "id": "695b93a2",
   "metadata": {},
   "source": [
    "### Raster"
   ]
  },
  {
   "cell_type": "code",
   "execution_count": 55,
   "id": "d2b9944f",
   "metadata": {},
   "outputs": [],
   "source": [
    "slope = read_rastergdal_UT(slope)\n",
    "land_cover = read_rastergdal_UT(land_cover)\n",
    "GHI = read_rastergdal_UT(GHI)"
   ]
  },
  {
   "cell_type": "code",
   "execution_count": 56,
   "id": "ada26bfe",
   "metadata": {
    "lines_to_next_cell": 2
   },
   "outputs": [],
   "source": [
    "UTMEPSG = 32644\n",
    "shpgdf = shp_district\n",
    "shpgdf =shpgdf.to_crs(epsg=UTMEPSG)\n",
    "\n",
    "output ='D:\\\\Lila_Kallakuruchi\\\\workdir\\\\temp.shp'\n",
    "\n",
    "LandUsefile_utm = slope\n",
    "\n",
    "df2 = shpgdf\n",
    "\n",
    "temp = LandUsefile_utm[:-4] + \"_cut.tif\"\n",
    "# copy_raster(LandUsefile_utm,temp)\n",
    " \n",
    "df = pd.DataFrame()   \n",
    "for j in range(len(df2)):\n",
    "    input_shp =  'D:\\\\Lila_Kallakuruchi\\\\workdir\\\\temp.shp'\n",
    "\n",
    "    selection = df2.geometry[j:j+1]\n",
    "    if selection.geometry.is_empty.bool():\n",
    "        rasterarr = []\n",
    "    else:\n",
    "        selection.to_file(input_shp)\n",
    "\n",
    "        input_raster= LandUsefile_utm\n",
    "\n",
    "        output_raster = temp\n",
    "\n",
    "        ds = gdal.Warp(output_raster,\n",
    "                      input_raster,\n",
    "                      format = 'GTiff',\n",
    "                      cutlineDSName = input_shp,\n",
    "                      cropToCutline=True,\n",
    "                      )\n",
    "        ds = None"
   ]
  },
  {
   "cell_type": "code",
   "execution_count": 57,
   "id": "85793d57",
   "metadata": {},
   "outputs": [],
   "source": [
    "UTMEPSG = 32644\n",
    "shpgdf = shp_district\n",
    "shpgdf =shpgdf.to_crs(epsg=UTMEPSG)\n",
    "\n",
    "output ='D:\\\\Lila_Kallakuruchi\\\\workdir\\\\temp.shp'\n",
    "\n",
    "LandUsefile_utm = land_cover\n",
    "\n",
    "df2 = shpgdf\n",
    "\n",
    "temp = LandUsefile_utm[:-4] + \"_cut.tif\"\n",
    "# copy_raster(LandUsefile_utm,temp)\n",
    " \n",
    "df = pd.DataFrame()   \n",
    "for j in range(len(df2)):\n",
    "    input_shp =  'D:\\\\Lila_Kallakuruchi\\\\workdir\\\\temp.shp'\n",
    "\n",
    "    selection = df2.geometry[j:j+1]\n",
    "    if selection.geometry.is_empty.bool():\n",
    "        rasterarr = []\n",
    "    else:\n",
    "        selection.to_file(input_shp)\n",
    "\n",
    "        #first for LandUse raster \n",
    "        input_raster= LandUsefile_utm\n",
    "\n",
    "        output_raster = temp\n",
    "\n",
    "        ds = gdal.Warp(output_raster,\n",
    "                      input_raster,\n",
    "                      format = 'GTiff',\n",
    "                      cutlineDSName = input_shp,\n",
    "                      cropToCutline=True,\n",
    "                      )\n",
    "        ds = None"
   ]
  },
  {
   "cell_type": "markdown",
   "id": "8cce44a1",
   "metadata": {},
   "source": [
    "### Changing the crs"
   ]
  },
  {
   "cell_type": "code",
   "execution_count": null,
   "id": "0bb33e65",
   "metadata": {},
   "outputs": [],
   "source": [
    "# raster_ds = land_cover\n",
    "# target_crs = osr.SpatialReference()\n",
    "# target_crs.ImportFromEPSG(4326) \n",
    "# output_ds = gdal.Warp(\"D:/Lila_Kallakuruchi/data/kallakurichi/land_cover_4326.tif\", raster_ds, dstSRS=target_crs)\n",
    "# raster_ds = None\n",
    "# output_ds = None"
   ]
  },
  {
   "cell_type": "code",
   "execution_count": null,
   "id": "7b03f3a3",
   "metadata": {},
   "outputs": [],
   "source": [
    "# raster_ds = slope\n",
    "# target_crs = osr.SpatialReference()\n",
    "# target_crs.ImportFromEPSG(4326) \n",
    "# output_ds = gdal.Warp(\"D:/Lila_Kallakuruchi/data/kallakurichi/slope_4326.tif\", raster_ds, dstSRS=target_crs)\n",
    "# raster_ds = None\n",
    "# output_ds = None"
   ]
  },
  {
   "cell_type": "markdown",
   "id": "240c65e4",
   "metadata": {},
   "source": [
    "## Forest"
   ]
  },
  {
   "cell_type": "code",
   "execution_count": 21,
   "id": "60ca373f",
   "metadata": {},
   "outputs": [],
   "source": [
    "theoritical_f = \"data/kallakurichi/forest/_ter_com_th/LC_Forest_final_mask_val_1_Kallakurichi.shp\"\n",
    "tech_f =\"data/Kallakurichi/forest/_ter_com_ar_tech/LC_Forest_area_mask_1_Kallakurichi.shp\"\n",
    "high_f = \"data/Kallakurichi/forest/_ter_fcor_elev_watpot_wtad_rdad_urad_com_ar_high/LC_Forest_area_mask_1_Kallakurichi.shp\"\n",
    "med_f = \"data/Kallakurichi/forest/_ter_elev_watpot_wtad_rdad_urad_com_ar_med/LC_Forest_area_mask_1_Kallakurichi.shp\""
   ]
  },
  {
   "cell_type": "code",
   "execution_count": 22,
   "id": "178f3a81",
   "metadata": {},
   "outputs": [],
   "source": [
    "shp_forest_theo = read_df_UT(theoritical_f)\n",
    "shp_forest_tech = read_df_UT(tech_f)\n",
    "shp_forest_high =read_df_UT(high_f)\n",
    "shp_forest_med = read_df_UT(med_f)"
   ]
  },
  {
   "cell_type": "code",
   "execution_count": 23,
   "id": "e36aa45a",
   "metadata": {},
   "outputs": [
    {
     "name": "stdout",
     "output_type": "stream",
     "text": [
      "theo: (101577, 8)\n",
      "tech: (5257, 8)\n",
      "high: (803, 5)\n",
      "med: (1074, 5)\n"
     ]
    }
   ],
   "source": [
    "print(\"theo:\",shp_forest_theo.shape)\n",
    "print(\"tech:\",shp_forest_tech.shape)\n",
    "print(\"high:\",shp_forest_high.shape)\n",
    "print(\"med:\",shp_forest_med.shape)"
   ]
  },
  {
   "cell_type": "code",
   "execution_count": 24,
   "id": "e7eac3be",
   "metadata": {},
   "outputs": [],
   "source": [
    "shp_forest_theo = gpd.overlay(shp_district,shp_forest_theo,how =\"intersection\")\n",
    "shp_forest_tech = gpd.overlay(shp_district,shp_forest_tech,how =\"intersection\")\n",
    "shp_forest_high = gpd.overlay(shp_district,shp_forest_high,how =\"intersection\")\n",
    "shp_forest_med  = gpd.overlay(shp_district,shp_forest_med,how =\"intersection\")"
   ]
  },
  {
   "cell_type": "code",
   "execution_count": 25,
   "id": "eef67103",
   "metadata": {},
   "outputs": [
    {
     "name": "stdout",
     "output_type": "stream",
     "text": [
      "theo: (99907, 20)\n",
      "tech: (5140, 20)\n",
      "high: (790, 17)\n",
      "med: (1059, 17)\n"
     ]
    }
   ],
   "source": [
    "print(\"theo:\",shp_forest_theo.shape)\n",
    "print(\"tech:\",shp_forest_tech.shape)\n",
    "print(\"high:\",shp_forest_high.shape)\n",
    "print(\"med:\",shp_forest_med.shape)"
   ]
  },
  {
   "cell_type": "code",
   "execution_count": 26,
   "id": "9973c22d",
   "metadata": {},
   "outputs": [],
   "source": [
    "shp_forest_theo = add_area_and_class_forest(shp_forest_theo)\n",
    "shp_forest_tech = add_area_and_class_forest(shp_forest_tech)\n",
    "shp_forest_high = add_area_and_class_forest(shp_forest_high)\n",
    "shp_forest_med = add_area_and_class_forest(shp_forest_med)"
   ]
  },
  {
   "cell_type": "code",
   "execution_count": 28,
   "id": "62ceef23",
   "metadata": {},
   "outputs": [],
   "source": [
    "shp_forest_tech = shp_forest_tech[shp_forest_tech[\"area_acres\"] > 1 ]\n",
    "shp_forest_high = shp_forest_high[shp_forest_high[\"area_acres\"] > 1 ]\n",
    "shp_forest_med = shp_forest_med[shp_forest_med[\"area_acres\"] > 1 ]"
   ]
  },
  {
   "cell_type": "code",
   "execution_count": 29,
   "id": "2810cc8b",
   "metadata": {
    "collapsed": true
   },
   "outputs": [
    {
     "name": "stdout",
     "output_type": "stream",
     "text": [
      "theo: (99907, 20)\n",
      "tech: (5116, 20)\n",
      "high: (785, 19)\n",
      "med: (1054, 19)\n"
     ]
    }
   ],
   "source": [
    "print(\"theo:\",shp_forest_theo.shape)\n",
    "print(\"tech:\",shp_forest_tech.shape)\n",
    "print(\"high:\",shp_forest_high.shape)\n",
    "print(\"med:\",shp_forest_med.shape)"
   ]
  },
  {
   "cell_type": "code",
   "execution_count": 30,
   "id": "d1054328",
   "metadata": {},
   "outputs": [],
   "source": [
    "shp_forest_theo.reset_index(inplace =True,drop =True)\n",
    "shp_forest_tech.reset_index(inplace =True,drop =True)\n",
    "shp_forest_high.reset_index(inplace =True,drop =True)\n",
    "shp_forest_med.reset_index(inplace =True,drop =True)"
   ]
  },
  {
   "cell_type": "code",
   "execution_count": 32,
   "id": "52950c74",
   "metadata": {},
   "outputs": [],
   "source": [
    "# shp_forest_theo.to_file(get_in_workdir(\"forest/shp_forest_theo\"))\n",
    "# shp_forest_tech.to_file(get_in_workdir(\"forest/shp_forest_tech\"))\n",
    "# shp_forest_high.to_file(get_in_workdir(\"forest/shp_forest_high\"))\n",
    "# shp_forest_med.to_file(get_in_workdir(\"forest/shp_forest_med\"))"
   ]
  },
  {
   "cell_type": "code",
   "execution_count": 33,
   "id": "bd088cf1",
   "metadata": {},
   "outputs": [],
   "source": [
    "S1 = shp_forest_tech[shp_forest_tech[\"area_class\"]==\"A\"]\n",
    "S2 = shp_forest_tech[shp_forest_tech[\"area_class\"]==\"B\"]\n",
    "S3 = shp_forest_tech[shp_forest_tech[\"area_class\"]==\"C\"]"
   ]
  },
  {
   "cell_type": "code",
   "execution_count": 34,
   "id": "20e015bf",
   "metadata": {},
   "outputs": [],
   "source": [
    "S1.reset_index(inplace =True,drop =True)\n",
    "S2.reset_index(inplace =True,drop =True)\n",
    "S3.reset_index(inplace =True,drop =True)"
   ]
  },
  {
   "cell_type": "code",
   "execution_count": 35,
   "id": "5306479c",
   "metadata": {},
   "outputs": [],
   "source": [
    "# S1.to_file(get_in_workdir(\"forest/S1\"))\n",
    "# S2.to_file(get_in_workdir(\"forest/S2\"))\n",
    "# S3.to_file(get_in_workdir(\"forest/S3\"))"
   ]
  },
  {
   "cell_type": "markdown",
   "id": "99941d3d",
   "metadata": {},
   "source": [
    "## Water"
   ]
  },
  {
   "cell_type": "code",
   "execution_count": 7,
   "id": "16b8c525",
   "metadata": {},
   "outputs": [],
   "source": [
    "high_w = \"data/Kallakurichi/water/water/_run_wd_lith_Fin_high/LC_Water_final.shp\"\n",
    "med_w = \"data/Kallakurichi/water/water/_run_wd_lith_Fin_med/LC_Water_final.shp\"\n",
    "low_w = \"data/Kallakurichi/water/water/_run_wd_lith_Fin_low/LC_Water_final.shp\""
   ]
  },
  {
   "cell_type": "code",
   "execution_count": 8,
   "id": "3cac5dca",
   "metadata": {},
   "outputs": [],
   "source": [
    "gw_high = read_df_UT(\"data/Kallakurichi/water/water/_run_wd_lith_Fin_high/LC_Water_final_groundwaterrecharge_mask_val_1.shp\")\n",
    "sw_high = read_df_UT((\"data/Kallakurichi/water/water/_run_wd_lith_Fin_high/LC_Water_final_surfacewaterbod_mask_val_1.shp\"))"
   ]
  },
  {
   "cell_type": "code",
   "execution_count": 9,
   "id": "4af4071e",
   "metadata": {},
   "outputs": [],
   "source": [
    "sw_med = read_df_UT((\"data/Kallakurichi/water/water/_run_wd_lith_Fin_med/LC_Water_final_surfacewaterbod_mask_val_1.shp\"))\n",
    "gw_med =  read_df_UT((\"data/Kallakurichi/water/water/_run_wd_lith_Fin_med/LC_Water_final_groundwaterrecharge_mask_val_1.shp\"))"
   ]
  },
  {
   "cell_type": "code",
   "execution_count": 10,
   "id": "7d0f8ee5",
   "metadata": {},
   "outputs": [],
   "source": [
    "sw_low = read_df_UT((\"data/Kallakurichi/water/water/_run_wd_lith_Fin_low/LC_Water_final_surfacewaterbod_mask_val_1.shp\"))\n",
    "gw_low =  read_df_UT((\"data/Kallakurichi/water/water/_run_wd_lith_Fin_low/LC_Water_final_groundwaterrecharge_mask_val_1.shp\"))"
   ]
  },
  {
   "cell_type": "code",
   "execution_count": 11,
   "id": "9c848d85",
   "metadata": {},
   "outputs": [
    {
     "name": "stdout",
     "output_type": "stream",
     "text": [
      "gw_high: (15, 3)\n",
      "sw_high: (152, 3)\n",
      "sw_med: (2347, 3)\n",
      "gw_med: (103, 3)\n",
      "sw_low: (11348, 3)\n",
      "gw_low: (666, 3)\n"
     ]
    }
   ],
   "source": [
    "print(\"gw_high:\",gw_high.shape)\n",
    "\n",
    "print(\"sw_high:\",sw_high.shape)\n",
    "\n",
    "print(\"sw_med:\",sw_med.shape)\n",
    "print(\"gw_med:\",gw_med.shape)\n",
    "print(\"sw_low:\",sw_low.shape)\n",
    "print(\"gw_low:\",gw_low.shape)"
   ]
  },
  {
   "cell_type": "code",
   "execution_count": 15,
   "id": "76e50a6d",
   "metadata": {},
   "outputs": [],
   "source": [
    "gw_high = gpd.overlay(shp_district,gw_high,how =\"intersection\")\n",
    "sw_high = gpd.overlay(shp_district,sw_high,how =\"intersection\")\n",
    "sw_med = gpd.overlay(shp_district,sw_med,how =\"intersection\")\n",
    "gw_med  = gpd.overlay(shp_district,gw_med,how =\"intersection\")\n",
    "sw_low = gpd.overlay(shp_district,sw_low,how =\"intersection\")\n",
    "gw_low  = gpd.overlay(shp_district,gw_low,how =\"intersection\")"
   ]
  },
  {
   "cell_type": "code",
   "execution_count": 16,
   "id": "1e73bd22",
   "metadata": {},
   "outputs": [
    {
     "name": "stdout",
     "output_type": "stream",
     "text": [
      "gw_high: (3, 15)\n",
      "sw_high: (75, 15)\n",
      "sw_med: (1266, 15)\n",
      "gw_med: (2, 15)\n",
      "sw_low: (5295, 15)\n",
      "gw_low: (128, 15)\n"
     ]
    }
   ],
   "source": [
    "print(\"gw_high:\",gw_high.shape)\n",
    "print(\"sw_high:\",sw_high.shape)\n",
    "print(\"sw_med:\",sw_med.shape)\n",
    "print(\"gw_med:\",gw_med.shape)\n",
    "print(\"sw_low:\",sw_low.shape)\n",
    "print(\"gw_low:\",gw_low.shape)"
   ]
  },
  {
   "cell_type": "code",
   "execution_count": 23,
   "id": "ecdf4a48",
   "metadata": {},
   "outputs": [],
   "source": [
    "sw_high.reset_index(inplace =True,drop =True)\n",
    "sw_med.reset_index(inplace =True,drop =True)\n",
    "gw_med.reset_index(inplace =True,drop =True)\n",
    "sw_low.reset_index(inplace =True,drop =True)\n",
    "gw_low.reset_index(inplace =True,drop =True)"
   ]
  },
  {
   "cell_type": "code",
   "execution_count": 24,
   "id": "4bfd8e49",
   "metadata": {},
   "outputs": [],
   "source": [
    "gw_high.reset_index(inplace =True,drop =True)"
   ]
  },
  {
   "cell_type": "code",
   "execution_count": 25,
   "id": "8f99dacc",
   "metadata": {},
   "outputs": [],
   "source": [
    "sw_tech = pd.concat([sw_low, sw_med, sw_high], ignore_index=True)\n",
    "gw_tech = pd.concat([gw_low, gw_med,gw_high], ignore_index=True)"
   ]
  },
  {
   "cell_type": "code",
   "execution_count": 40,
   "id": "32f2cf33",
   "metadata": {},
   "outputs": [],
   "source": [
    "gw_high.to_file(get_in_workdir(\"water/gw_high\"))"
   ]
  },
  {
   "cell_type": "code",
   "execution_count": 26,
   "id": "cdafb577",
   "metadata": {},
   "outputs": [],
   "source": [
    "# sw_tech.to_file(get_in_workdir(\"water/sw_tech\"))\n",
    "# gw_tech.to_file(get_in_workdir(\"water/gw_tech\"))\n",
    "# sw_high.to_file(get_in_workdir(\"water/sw_high\"))\n",
    "# sw_med.to_file(get_in_workdir(\"water/sw_med\"))\n",
    "# gw_med.to_file(get_in_workdir(\"water/gw_med\"))\n",
    "# sw_low.to_file(get_in_workdir(\"water/sw_low\"))\n",
    "# gw_low.to_file(get_in_workdir(\"water/gw_low\"))"
   ]
  },
  {
   "cell_type": "code",
   "execution_count": 17,
   "id": "28fdc250",
   "metadata": {},
   "outputs": [],
   "source": [
    "shp_water_high = read_df_UT(high_w)\n",
    "shp_water_med = read_df_UT(med_w)\n",
    "shp_water_low = read_df_UT(low_w)"
   ]
  },
  {
   "cell_type": "code",
   "execution_count": 18,
   "id": "d3366527",
   "metadata": {},
   "outputs": [
    {
     "name": "stdout",
     "output_type": "stream",
     "text": [
      "high: (169, 34)\n",
      "med: (2535, 34)\n",
      "low: (13833, 34)\n"
     ]
    }
   ],
   "source": [
    "print(\"high:\",shp_water_high.shape)\n",
    "print(\"med:\",shp_water_med.shape)\n",
    "print(\"low:\",shp_water_low.shape)"
   ]
  },
  {
   "cell_type": "code",
   "execution_count": 19,
   "id": "ffdc80c1",
   "metadata": {},
   "outputs": [],
   "source": [
    "shp_water_high = gpd.overlay(shp_district,shp_water_high,how =\"intersection\")\n",
    "shp_water_med = gpd.overlay(shp_district,shp_water_med,how =\"intersection\")\n",
    "shp_water_low  = gpd.overlay(shp_district,shp_water_low,how =\"intersection\")"
   ]
  },
  {
   "cell_type": "code",
   "execution_count": 20,
   "id": "1296fed3",
   "metadata": {},
   "outputs": [
    {
     "name": "stdout",
     "output_type": "stream",
     "text": [
      "high: (76, 46)\n",
      "med: (1307, 46)\n",
      "low: (5924, 46)\n"
     ]
    }
   ],
   "source": [
    "print(\"high:\",shp_water_high.shape)\n",
    "print(\"med:\",shp_water_med.shape)\n",
    "print(\"low:\",shp_water_low.shape)"
   ]
  },
  {
   "cell_type": "code",
   "execution_count": 21,
   "id": "2760851a",
   "metadata": {},
   "outputs": [],
   "source": [
    "shp_water_high.reset_index(inplace =True,drop =True)\n",
    "shp_water_med.reset_index(inplace =True,drop =True)\n",
    "shp_water_low.reset_index(inplace =True,drop =True)"
   ]
  },
  {
   "cell_type": "code",
   "execution_count": 22,
   "id": "5ec749ba",
   "metadata": {},
   "outputs": [],
   "source": [
    "shp_water_tech = pd.concat([shp_water_high, shp_water_med, shp_water_low], ignore_index=True)"
   ]
  },
  {
   "cell_type": "code",
   "execution_count": 23,
   "id": "83ebcfb9",
   "metadata": {},
   "outputs": [],
   "source": [
    "shp_water_tech = add_area_and_class(shp_water_tech)\n",
    "shp_water_high = add_area_and_class(shp_water_high)\n",
    "shp_water_med = add_area_and_class(shp_water_med)\n",
    "shp_water_low = add_area_and_class(shp_water_low)"
   ]
  },
  {
   "cell_type": "code",
   "execution_count": 24,
   "id": "63a3eee8",
   "metadata": {},
   "outputs": [],
   "source": [
    "# shp_water_tech.to_file(get_in_workdir(\"water/shp_water_tech\"))\n",
    "# shp_water_high.to_file(get_in_workdir(\"water/shp_water_high\"))\n",
    "# shp_water_med.to_file(get_in_workdir(\"water/shp_water_med\"))\n",
    "# shp_water_low.to_file(get_in_workdir(\"water/shp_water_low\"))"
   ]
  },
  {
   "cell_type": "markdown",
   "id": "c8b143b2",
   "metadata": {},
   "source": [
    "## Agri"
   ]
  },
  {
   "cell_type": "code",
   "execution_count": 34,
   "id": "977925df",
   "metadata": {},
   "outputs": [],
   "source": [
    "theoritical_a = \"data/kallakurichi/agri_1/_pr_tem_br_com_th/LC_agri_final_mask_val_1_Kallakurichi.shp\"\n",
    "tech_a =\"data/Kallakurichi/agri_1/_pr_tem_br_elev_rd_ar_com_tech/LC_agri_final_area_mask_1_Kallakurichi.shp\"\n",
    "high_a = \"data/Kallakurichi/agri_1/_pr_tem_br_elev_rd_ar_com_wat_er_high/LC_agri_final_area_mask_1_Kallakurichi.shp\"\n",
    "med_a = \"data/Kallakurichi/agri_1/_pr_tem_br_elev_rd_ar_com_wat_er_med/LC_agri_final_area_mask_1_Kallakurichi.shp\""
   ]
  },
  {
   "cell_type": "code",
   "execution_count": 35,
   "id": "cf9a0e0b",
   "metadata": {},
   "outputs": [],
   "source": [
    "shp_agri_theo = read_df_UT(theoritical_a)\n",
    "shp_agri_tech = read_df_UT(tech_a)\n",
    "shp_agri_high =read_df_UT(high_a)\n",
    "shp_agri_med = read_df_UT(med_a)"
   ]
  },
  {
   "cell_type": "code",
   "execution_count": 36,
   "id": "5ad65987",
   "metadata": {},
   "outputs": [
    {
     "name": "stdout",
     "output_type": "stream",
     "text": [
      "theo: (73027, 8)\n",
      "tech: (11035, 8)\n",
      "high: (3305, 13)\n",
      "med: (3892, 13)\n"
     ]
    }
   ],
   "source": [
    "print(\"theo:\",shp_agri_theo.shape)\n",
    "print(\"tech:\",shp_agri_tech.shape)\n",
    "print(\"high:\",shp_agri_high.shape)\n",
    "print(\"med:\",shp_agri_med.shape)"
   ]
  },
  {
   "cell_type": "code",
   "execution_count": 37,
   "id": "3521f94b",
   "metadata": {},
   "outputs": [],
   "source": [
    "shp_agri_theo = gpd.overlay(shp_district,shp_agri_theo,how =\"intersection\")\n",
    "shp_agri_tech = gpd.overlay(shp_district,shp_agri_tech,how =\"intersection\")\n",
    "shp_agri_high = gpd.overlay(shp_district,shp_agri_high,how =\"intersection\")\n",
    "shp_agri_med  = gpd.overlay(shp_district,shp_agri_med,how =\"intersection\")"
   ]
  },
  {
   "cell_type": "code",
   "execution_count": 38,
   "id": "7da936a6",
   "metadata": {},
   "outputs": [
    {
     "name": "stdout",
     "output_type": "stream",
     "text": [
      "theo: (71376, 20)\n",
      "tech: (10754, 20)\n",
      "high: (3208, 25)\n",
      "med: (3778, 25)\n"
     ]
    }
   ],
   "source": [
    "print(\"theo:\",shp_agri_theo.shape)\n",
    "print(\"tech:\",shp_agri_tech.shape)\n",
    "print(\"high:\",shp_agri_high.shape)\n",
    "print(\"med:\",shp_agri_med.shape)"
   ]
  },
  {
   "cell_type": "code",
   "execution_count": 39,
   "id": "d227d82c",
   "metadata": {},
   "outputs": [],
   "source": [
    "# shp_agri_theo = gpd.overlay(shp_agri_theo,shp_RF,how =\"difference\")\n",
    "# shp_agri_tech = gpd.overlay(shp_agri_tech,shp_RF,how =\"difference\")\n",
    "# shp_agri_high = gpd.overlay(shp_agri_high,shp_RF,how =\"difference\")\n",
    "# shp_agri_med  = gpd.overlay(shp_agri_med,shp_RF,how =\"difference\")"
   ]
  },
  {
   "cell_type": "code",
   "execution_count": 40,
   "id": "c28958db",
   "metadata": {},
   "outputs": [],
   "source": [
    "# print(\"theo:\",shp_agri_theo.shape)\n",
    "# print(\"tech:\",shp_agri_tech.shape)\n",
    "# print(\"high:\",shp_agri_high.shape)\n",
    "# print(\"med:\",shp_agri_med.shape)"
   ]
  },
  {
   "cell_type": "code",
   "execution_count": 41,
   "id": "befba4c6",
   "metadata": {},
   "outputs": [],
   "source": [
    "# shp_agri_theo = shp_agri_theo.explode()\n",
    "# shp_agri_tech = shp_agri_tech.explode()\n",
    "# shp_agri_high = shp_agri_high.explode()\n",
    "# shp_agri_med  = shp_agri_med.explode()"
   ]
  },
  {
   "cell_type": "code",
   "execution_count": 42,
   "id": "3464399a",
   "metadata": {},
   "outputs": [],
   "source": [
    "shp_agri_theo.reset_index(inplace =True,drop =True)\n",
    "shp_agri_tech.reset_index(inplace =True,drop =True)\n",
    "shp_agri_high.reset_index(inplace =True,drop =True)\n",
    "shp_agri_med.reset_index(inplace =True,drop =True)"
   ]
  },
  {
   "cell_type": "code",
   "execution_count": 43,
   "id": "9013a319",
   "metadata": {},
   "outputs": [],
   "source": [
    "shp_agri_theo = add_area_and_class_agri(shp_agri_theo)\n",
    "shp_agri_tech = add_area_and_class_agri(shp_agri_tech)\n",
    "shp_agri_high = add_area_and_class_agri(shp_agri_high)\n",
    "shp_agri_med = add_area_and_class_agri(shp_agri_med)"
   ]
  },
  {
   "cell_type": "code",
   "execution_count": 44,
   "id": "f086e5ce",
   "metadata": {},
   "outputs": [
    {
     "name": "stdout",
     "output_type": "stream",
     "text": [
      "theo: (71376, 20)\n",
      "tech: (10754, 20)\n",
      "high: (3208, 25)\n",
      "med: (3778, 25)\n"
     ]
    }
   ],
   "source": [
    "print(\"theo:\",shp_agri_theo.shape)\n",
    "print(\"tech:\",shp_agri_tech.shape)\n",
    "print(\"high:\",shp_agri_high.shape)\n",
    "print(\"med:\",shp_agri_med.shape)"
   ]
  },
  {
   "cell_type": "code",
   "execution_count": 45,
   "id": "9a18057e",
   "metadata": {},
   "outputs": [],
   "source": [
    "shp_agri_tech = shp_agri_tech[shp_agri_tech[\"area_acres\"] > 1 ]\n",
    "shp_agri_high = shp_agri_high[shp_agri_high[\"area_acres\"] > 1 ]\n",
    "shp_agri_med = shp_agri_med[shp_agri_med[\"area_acres\"] > 1 ]"
   ]
  },
  {
   "cell_type": "code",
   "execution_count": 46,
   "id": "fdeab1db",
   "metadata": {},
   "outputs": [],
   "source": [
    "shp_agri_theo.reset_index(inplace =True,drop =True)\n",
    "shp_agri_tech.reset_index(inplace =True,drop =True)\n",
    "shp_agri_high.reset_index(inplace =True,drop =True)\n",
    "shp_agri_med.reset_index(inplace =True,drop =True)"
   ]
  },
  {
   "cell_type": "code",
   "execution_count": 47,
   "id": "5c1d8525",
   "metadata": {},
   "outputs": [
    {
     "name": "stdout",
     "output_type": "stream",
     "text": [
      "theo: (71376, 20)\n",
      "tech: (10701, 20)\n",
      "high: (3192, 25)\n",
      "med: (3760, 25)\n"
     ]
    }
   ],
   "source": [
    "print(\"theo:\",shp_agri_theo.shape)\n",
    "print(\"tech:\",shp_agri_tech.shape)\n",
    "print(\"high:\",shp_agri_high.shape)\n",
    "print(\"med:\",shp_agri_med.shape)"
   ]
  },
  {
   "cell_type": "code",
   "execution_count": 48,
   "id": "91572791",
   "metadata": {},
   "outputs": [],
   "source": [
    "shp_agri_theo.to_file(get_in_workdir(\"agri/shp_agri_theo\"))\n",
    "shp_agri_tech.to_file(get_in_workdir(\"agri/shp_agri_tech\"))\n",
    "shp_agri_high.to_file(get_in_workdir(\"agri/shp_agri_high\"))\n",
    "shp_agri_med.to_file(get_in_workdir(\"agri/shp_agri_med\"))"
   ]
  },
  {
   "cell_type": "code",
   "execution_count": 49,
   "id": "9fafcb0e",
   "metadata": {},
   "outputs": [],
   "source": [
    "S1 = shp_agri_tech[shp_agri_tech[\"area_class\"]==\"A\"]\n",
    "S2 = shp_agri_tech[shp_agri_tech[\"area_class\"]==\"B\"]\n",
    "S3 = shp_agri_tech[shp_agri_tech[\"area_class\"]==\"C\"]"
   ]
  },
  {
   "cell_type": "code",
   "execution_count": 50,
   "id": "f9e33bbb",
   "metadata": {},
   "outputs": [],
   "source": [
    "S1.reset_index(inplace =True,drop =True)\n",
    "S2.reset_index(inplace =True,drop =True)\n",
    "S3.reset_index(inplace =True,drop =True)"
   ]
  },
  {
   "cell_type": "code",
   "execution_count": 51,
   "id": "f3719084",
   "metadata": {},
   "outputs": [],
   "source": [
    "S1.to_file(get_in_workdir(\"agri/S1\"))\n",
    "S2.to_file(get_in_workdir(\"agri/S2\"))\n",
    "S3.to_file(get_in_workdir(\"agri/S3\"))"
   ]
  },
  {
   "cell_type": "markdown",
   "id": "cf47a4ff",
   "metadata": {},
   "source": [
    "## Industry"
   ]
  },
  {
   "cell_type": "code",
   "execution_count": 13,
   "id": "0b43bf08",
   "metadata": {},
   "outputs": [],
   "source": [
    "theoritical_i = \"data/Kallakurichi/industry/_pr_tem_br_elev_wat_com_rdpx_th/LC_industry_final_area_mask_1_Kallakurichi.shp\"\n",
    "tech_i =\"data/Kallakurichi/industry/_ur_pr_tem_br_elev_wat_ar_com_rdpx_tech/LC_industry_final_area_mask_1_Kallakurichi.shp\"\n",
    "high_i = \"data/Kallakurichi/industry/_ur_pr_tem_br_elev_wat_ar_com_rdpx_rdat_urad_high/LC_industry_final_area_mask_1_Kallakurichi.shp\"\n",
    "med_i = \"data/Kallakurichi/industry/_ur_pr_tem_br_elev_wat_ar_com_rdpx_rdat_urad_med/LC_industry_final_area_mask_1_Kallakurichi.shp\""
   ]
  },
  {
   "cell_type": "code",
   "execution_count": 9,
   "id": "500ac294",
   "metadata": {},
   "outputs": [],
   "source": [
    "# theoritical_new = \"data/Kallakurichi/industry/industry_5kmfrom_Protectedareas/_pr_tem_br_elev_wat_com_rdpx_th/LC_industry_final_area_mask_1_Kallakurichi.shp\"\n",
    "# tech_new =\"data/Kallakurichi/industry/industry_5kmfrom_Protectedareas/_ur_pr_tem_br_elev_wat_ar_com_rdpx_tech/LC_industry_final_area_mask_1_Kallakurichi.shp\"\n",
    "# high_new = \"data/Kallakurichi/industry/industry_5kmfrom_Protectedareas/_ur_pr_tem_br_elev_wat_ar_com_rdpx_rdat_urad_high/LC_industry_final_area_mask_1_Kallakurichi.shp\"\n",
    "# med_new = \"data/Kallakurichi/industry/industry_5kmfrom_Protectedareas/_ur_pr_tem_br_elev_wat_ar_com_rdpx_rdat_urad_med/LC_industry_final_area_mask_1_Kallakurichi.shp\""
   ]
  },
  {
   "cell_type": "code",
   "execution_count": 14,
   "id": "2b0cadff",
   "metadata": {},
   "outputs": [],
   "source": [
    "shp_indus_theo = read_df_UT(theoritical_i)\n",
    "shp_indus_tech = read_df_UT(tech_i)\n",
    "shp_indus_high =read_df_UT(high_i)\n",
    "shp_indus_med = read_df_UT(med_i)"
   ]
  },
  {
   "cell_type": "code",
   "execution_count": 15,
   "id": "79b6952d",
   "metadata": {},
   "outputs": [
    {
     "name": "stdout",
     "output_type": "stream",
     "text": [
      "theo: (8290, 10)\n",
      "tech: (3605, 10)\n",
      "high: (3475, 18)\n",
      "med: (104, 18)\n"
     ]
    }
   ],
   "source": [
    "print(\"theo:\",shp_indus_theo.shape)\n",
    "print(\"tech:\",shp_indus_tech.shape)\n",
    "print(\"high:\",shp_indus_high.shape)\n",
    "print(\"med:\",shp_indus_med.shape)"
   ]
  },
  {
   "cell_type": "code",
   "execution_count": 17,
   "id": "98aacfe7",
   "metadata": {},
   "outputs": [
    {
     "data": {
      "text/plain": [
       "8824.448492428019"
      ]
     },
     "execution_count": 17,
     "metadata": {},
     "output_type": "execute_result"
    }
   ],
   "source": [
    "shp_indus_theo.area_acres.sum()"
   ]
  },
  {
   "cell_type": "code",
   "execution_count": 18,
   "id": "b79288b0",
   "metadata": {},
   "outputs": [
    {
     "data": {
      "text/plain": [
       "8201.822578089517"
      ]
     },
     "execution_count": 18,
     "metadata": {},
     "output_type": "execute_result"
    }
   ],
   "source": [
    "shp_indus_tech.area_acres.sum()"
   ]
  },
  {
   "cell_type": "code",
   "execution_count": 19,
   "id": "c1c55848",
   "metadata": {},
   "outputs": [],
   "source": [
    "shp_indus_theo = gpd.overlay(shp_district,shp_indus_theo,how =\"intersection\")\n",
    "shp_indus_tech = gpd.overlay(shp_district,shp_indus_tech,how =\"intersection\")\n",
    "shp_indus_high = gpd.overlay(shp_district,shp_indus_high,how =\"intersection\")\n",
    "shp_indus_med  = gpd.overlay(shp_district,shp_indus_med,how =\"intersection\")"
   ]
  },
  {
   "cell_type": "code",
   "execution_count": 20,
   "id": "dd80441c",
   "metadata": {},
   "outputs": [],
   "source": [
    "shp_indus_theo.reset_index(inplace =True,drop =True)\n",
    "shp_indus_tech.reset_index(inplace =True,drop =True)\n",
    "shp_indus_high.reset_index(inplace =True,drop =True)\n",
    "shp_indus_med.reset_index(inplace =True,drop =True)"
   ]
  },
  {
   "cell_type": "code",
   "execution_count": 21,
   "id": "8ec20a0e",
   "metadata": {},
   "outputs": [
    {
     "name": "stdout",
     "output_type": "stream",
     "text": [
      "theo: (8041, 22)\n",
      "tech: (3499, 22)\n",
      "high: (3374, 30)\n",
      "med: (102, 30)\n"
     ]
    }
   ],
   "source": [
    "print(\"theo:\",shp_indus_theo.shape)\n",
    "print(\"tech:\",shp_indus_tech.shape)\n",
    "print(\"high:\",shp_indus_high.shape)\n",
    "print(\"med:\",shp_indus_med.shape)"
   ]
  },
  {
   "cell_type": "code",
   "execution_count": 22,
   "id": "85511b2c",
   "metadata": {},
   "outputs": [],
   "source": [
    "shp_indus_theo = add_area_and_class_industry(shp_indus_theo)\n",
    "shp_indus_tech = add_area_and_class_industry(shp_indus_tech)\n",
    "shp_indus_high = add_area_and_class_industry(shp_indus_high)\n",
    "shp_indus_med = add_area_and_class_industry(shp_indus_med)"
   ]
  },
  {
   "cell_type": "code",
   "execution_count": 23,
   "id": "85c41693",
   "metadata": {},
   "outputs": [],
   "source": [
    "shp_indus_tech = shp_indus_tech[shp_indus_tech[\"area_acres\"] > 0.3 ]\n",
    "shp_indus_high = shp_indus_high[shp_indus_high[\"area_acres\"] > 0.3 ]\n",
    "shp_indus_med = shp_indus_med[shp_indus_med[\"area_acres\"] > 0.3 ]"
   ]
  },
  {
   "cell_type": "code",
   "execution_count": 24,
   "id": "d5abfb07",
   "metadata": {},
   "outputs": [],
   "source": [
    "shp_indus_theo.reset_index(inplace =True,drop =True)\n",
    "shp_indus_tech.reset_index(inplace =True,drop =True)\n",
    "shp_indus_high.reset_index(inplace =True,drop =True)\n",
    "shp_indus_med.reset_index(inplace =True,drop =True)"
   ]
  },
  {
   "cell_type": "code",
   "execution_count": 23,
   "id": "caf70341",
   "metadata": {},
   "outputs": [],
   "source": [
    "# shp_indus_theo.to_file(get_in_workdir(\"industry/shp_industry_theo\"))\n",
    "# shp_indus_tech.to_file(get_in_workdir(\"industry/shp_industry_tech\"))\n",
    "# shp_indus_high.to_file(get_in_workdir(\"industry/shp_industry_high\"))\n",
    "# shp_indus_med.to_file(get_in_workdir(\"industry/shp_industry_med\"))"
   ]
  },
  {
   "cell_type": "code",
   "execution_count": 24,
   "id": "612a0e4e",
   "metadata": {},
   "outputs": [],
   "source": [
    "S1 = shp_indus_tech[shp_indus_tech[\"area_class\"]==\"A\"]\n",
    "S2 = shp_indus_tech[shp_indus_tech[\"area_class\"]==\"B\"]\n",
    "S3 = shp_indus_tech[shp_indus_tech[\"area_class\"]==\"C\"]"
   ]
  },
  {
   "cell_type": "code",
   "execution_count": 25,
   "id": "ab281b93",
   "metadata": {},
   "outputs": [],
   "source": [
    "S1.reset_index(inplace =True,drop =True)\n",
    "S2.reset_index(inplace =True,drop =True)\n",
    "S3.reset_index(inplace =True,drop =True)"
   ]
  },
  {
   "cell_type": "code",
   "execution_count": 26,
   "id": "f72cf744",
   "metadata": {
    "collapsed": true
   },
   "outputs": [
    {
     "data": {
      "text/plain": [
       "<AxesSubplot: >"
      ]
     },
     "execution_count": 26,
     "metadata": {},
     "output_type": "execute_result"
    },
    {
     "data": {
      "image/png": "[encoded data removed]",
      "text/plain": [
       "<Figure size 640x480 with 1 Axes>"
      ]
     },
     "metadata": {},
     "output_type": "display_data"
    }
   ],
   "source": [
    "shp_indus_tech.plot()"
   ]
  },
  {
   "cell_type": "code",
   "execution_count": 27,
   "id": "b1c916dd",
   "metadata": {},
   "outputs": [],
   "source": [
    "# S1.to_file(get_in_workdir(\"industry/S1\"))\n",
    "# S2.to_file(get_in_workdir(\"industry/S2\"))\n",
    "# S3.to_file(get_in_workdir(\"industry/S3\"))"
   ]
  },
  {
   "cell_type": "markdown",
   "id": "50c73f80",
   "metadata": {},
   "source": [
    "## Housing"
   ]
  },
  {
   "cell_type": "code",
   "execution_count": 28,
   "id": "79e6f059",
   "metadata": {},
   "outputs": [],
   "source": [
    "theoritical_h = \"data/Kallakurichi/residential/_rl_pr_tem_br_elev_rd_wat_com_th/LC_residential_final_mask_val_1_Kallakurichi.shp\"\n",
    "tech_h =\"data/Kallakurichi/residential/_ur_rl_pr_tem_br_elev_rd_wat_ar_com_rdpx_tech/LC_residential_final_area_mask_1_Kallakurichi.shp\"\n",
    "high_h = \"data/Kallakurichi/residential/_ur_rl_pr_tem_br_elev_rd_wat_ar_com_rdpx_rdat_urad_high/LC_residential_final_area_mask_1_Kallakurichi.shp\"\n",
    "med_h = \"data/Kallakurichi/residential/_ur_rl_pr_tem_br_elev_rd_wat_ar_com_rdpx_rdat_urad_med/LC_residential_final_area_mask_1_Kallakurichi.shp\""
   ]
  },
  {
   "cell_type": "code",
   "execution_count": 29,
   "id": "0853a641",
   "metadata": {},
   "outputs": [],
   "source": [
    "shp_housing_theo = read_df_UT(theoritical_h)\n",
    "shp_housing_tech = read_df_UT(tech_h)\n",
    "shp_housing_high =read_df_UT(high_h)\n",
    "shp_housing_med = read_df_UT(med_h)"
   ]
  },
  {
   "cell_type": "code",
   "execution_count": 30,
   "id": "0a62a255",
   "metadata": {},
   "outputs": [
    {
     "name": "stdout",
     "output_type": "stream",
     "text": [
      "theo: (35312, 8)\n",
      "tech: (3756, 10)\n",
      "high: (111, 18)\n",
      "med: (292, 18)\n"
     ]
    }
   ],
   "source": [
    "print(\"theo:\",shp_housing_theo.shape)\n",
    "print(\"tech:\",shp_housing_tech.shape)\n",
    "print(\"high:\",shp_housing_high.shape)\n",
    "print(\"med:\",shp_housing_med.shape)"
   ]
  },
  {
   "cell_type": "code",
   "execution_count": 31,
   "id": "00c3a065",
   "metadata": {},
   "outputs": [],
   "source": [
    "shp_housing_theo = gpd.overlay(shp_district,shp_housing_theo,how =\"intersection\")\n",
    "shp_housing_tech = gpd.overlay(shp_district,shp_housing_tech,how =\"intersection\")\n",
    "shp_housing_high = gpd.overlay(shp_district,shp_housing_high,how =\"intersection\")\n",
    "shp_housing_med  = gpd.overlay(shp_district,shp_housing_med,how =\"intersection\")"
   ]
  },
  {
   "cell_type": "code",
   "execution_count": 32,
   "id": "a023716b",
   "metadata": {},
   "outputs": [
    {
     "name": "stdout",
     "output_type": "stream",
     "text": [
      "theo: (34656, 20)\n",
      "tech: (3741, 22)\n",
      "high: (111, 30)\n",
      "med: (292, 30)\n"
     ]
    }
   ],
   "source": [
    "print(\"theo:\",shp_housing_theo.shape)\n",
    "print(\"tech:\",shp_housing_tech.shape)\n",
    "print(\"high:\",shp_housing_high.shape)\n",
    "print(\"med:\",shp_housing_med.shape)"
   ]
  },
  {
   "cell_type": "code",
   "execution_count": 33,
   "id": "2423b603",
   "metadata": {},
   "outputs": [],
   "source": [
    "shp_housing_theo = add_area_and_class_housing(shp_housing_theo)\n",
    "shp_housing_tech = add_area_and_class_housing(shp_housing_tech)\n",
    "shp_housing_high = add_area_and_class_housing(shp_housing_high)\n",
    "shp_housing_med = add_area_and_class_housing(shp_housing_med)"
   ]
  },
  {
   "cell_type": "code",
   "execution_count": 34,
   "id": "ed069e42",
   "metadata": {},
   "outputs": [],
   "source": [
    "shp_housing_tech = shp_housing_tech[shp_housing_tech[\"area_acres\"] > 0.25 ]\n",
    "shp_housing_high = shp_housing_high[shp_housing_high[\"area_acres\"] > 5 ]\n",
    "shp_housing_med = shp_housing_med[shp_housing_med[\"area_acres\"] > 2 ]"
   ]
  },
  {
   "cell_type": "code",
   "execution_count": 35,
   "id": "591631f1",
   "metadata": {},
   "outputs": [],
   "source": [
    "shp_housing_theo.reset_index(inplace =True,drop =True)\n",
    "shp_housing_tech.reset_index(inplace =True,drop =True)\n",
    "shp_housing_high.reset_index(inplace =True,drop =True)\n",
    "shp_housing_med.reset_index(inplace =True,drop =True)"
   ]
  },
  {
   "cell_type": "code",
   "execution_count": 36,
   "id": "6b5045b2",
   "metadata": {},
   "outputs": [],
   "source": [
    "# shp_housing_theo.to_file(get_in_workdir(\"housing/shp_housing_theo\"))\n",
    "# shp_housing_tech.to_file(get_in_workdir(\"housing/shp_housing_tech\"))\n",
    "# shp_housing_high.to_file(get_in_workdir(\"housing/shp_housing_high\"))\n",
    "# shp_housing_med.to_file(get_in_workdir(\"housing/shp_housing_med\"))"
   ]
  },
  {
   "cell_type": "code",
   "execution_count": 37,
   "id": "065d1a4d",
   "metadata": {},
   "outputs": [],
   "source": [
    "S1 = shp_housing_tech[shp_housing_tech[\"area_class\"]==\"A\"]\n",
    "S2 = shp_housing_tech[shp_housing_tech[\"area_class\"]==\"B\"]\n",
    "S3 = shp_housing_tech[shp_housing_tech[\"area_class\"]==\"C\"]"
   ]
  },
  {
   "cell_type": "code",
   "execution_count": 38,
   "id": "d794d6a4",
   "metadata": {},
   "outputs": [],
   "source": [
    "S1.reset_index(inplace =True,drop =True)\n",
    "S2.reset_index(inplace =True,drop =True)\n",
    "S3.reset_index(inplace =True,drop =True)"
   ]
  },
  {
   "cell_type": "code",
   "execution_count": 39,
   "id": "01efe163",
   "metadata": {},
   "outputs": [],
   "source": [
    "# S1.to_file(get_in_workdir(\"housing/S1\"))\n",
    "# S2.to_file(get_in_workdir(\"housing/S2\"))\n",
    "# S3.to_file(get_in_workdir(\"housing/S3\"))"
   ]
  },
  {
   "cell_type": "markdown",
   "id": "259f44f4",
   "metadata": {},
   "source": [
    "## Land_cover"
   ]
  },
  {
   "cell_type": "code",
   "execution_count": 3,
   "id": "79b8d97e",
   "metadata": {
    "collapsed": true
   },
   "outputs": [
    {
     "ename": "NameError",
     "evalue": "name 'read_df_UT' is not defined",
     "output_type": "error",
     "traceback": [
      "\u001b[1;31m---------------------------------------------------------------------------\u001b[0m",
      "\u001b[1;31mNameError\u001b[0m                                 Traceback (most recent call last)",
      "Cell \u001b[1;32mIn [3], line 1\u001b[0m\n\u001b[1;32m----> 1\u001b[0m shp_land_cover \u001b[38;5;241m=\u001b[39m read_df_UT(shp_land_cover) \u001b[38;5;66;03m## common\u001b[39;00m\n\u001b[0;32m      2\u001b[0m shp_land_cover \u001b[38;5;241m=\u001b[39m gpd\u001b[38;5;241m.\u001b[39moverlay(shp_district,shp_land_cover,how \u001b[38;5;241m=\u001b[39m\u001b[38;5;124m\"\u001b[39m\u001b[38;5;124mintersection\u001b[39m\u001b[38;5;124m\"\u001b[39m)\n",
      "\u001b[1;31mNameError\u001b[0m: name 'read_df_UT' is not defined"
     ]
    }
   ],
   "source": [
    "shp_land_cover = read_df_UT(shp_land_cover) ## common\n",
    "shp_land_cover = gpd.overlay(shp_district,shp_land_cover,how =\"intersection\")"
   ]
  },
  {
   "cell_type": "code",
   "execution_count": 14,
   "id": "845daf4d",
   "metadata": {},
   "outputs": [],
   "source": [
    "# shp_land_cover.to_file(get_in_workdir(\"extra_inputs/Landcover\"))"
   ]
  },
  {
   "cell_type": "code",
   "execution_count": 49,
   "id": "647fb1a2",
   "metadata": {},
   "outputs": [],
   "source": [
    "shp_unused = shp_land_cover[shp_land_cover[\"DN\"]==1]\n",
    "shp_sparseveg = shp_land_cover[shp_land_cover[\"DN\"]==2]\n",
    "shp_cropland = shp_land_cover[shp_land_cover[\"DN\"]==3]\n",
    "shp_forest = shp_land_cover[shp_land_cover[\"DN\"]==4]\n",
    "shp_water = shp_land_cover[shp_land_cover[\"DN\"]==5]\n",
    "shp_builtup = shp_land_cover[shp_land_cover[\"DN\"]==6]\n",
    "shp_access = shp_land_cover[shp_land_cover[\"DN\"]==7]\n",
    "shp_waterbodies = shp_land_cover[shp_land_cover[\"DN\"]==50]"
   ]
  },
  {
   "cell_type": "code",
   "execution_count": 51,
   "id": "ee039f5c",
   "metadata": {},
   "outputs": [],
   "source": [
    "shp_unused.reset_index(inplace =True,drop =True)\n",
    "shp_sparseveg.reset_index(inplace =True,drop =True)\n",
    "shp_cropland.reset_index(inplace =True,drop =True)\n",
    "shp_forest.reset_index(inplace =True,drop =True)\n",
    "shp_water.reset_index(inplace =True,drop =True)\n",
    "shp_builtup.reset_index(inplace =True,drop =True)\n",
    "shp_access.reset_index(inplace =True,drop =True)\n",
    "shp_waterbodies.reset_index(inplace =True,drop =True)"
   ]
  },
  {
   "cell_type": "code",
   "execution_count": 52,
   "id": "3cf1b721",
   "metadata": {},
   "outputs": [],
   "source": [
    "# shp_unused.to_file(get_in_workdir(\"extra_inputs/shp_unused\"))\n",
    "# shp_sparseveg.to_file(get_in_workdir(\"extra_inputs/shp_sparseveg\"))\n",
    "# shp_cropland.to_file(get_in_workdir(\"extra_inputs/shp_cropland\"))\n",
    "# shp_forest.to_file(get_in_workdir(\"extra_inputs/shp_forest\"))\n",
    "# shp_water.to_file(get_in_workdir(\"extra_inputs/shp_water\"))\n",
    "# shp_builtup.to_file(get_in_workdir(\"extra_inputs/shp_builtup\"))\n",
    "# shp_access.to_file(get_in_workdir(\"extra_inputs/shp_access\"))\n",
    "# shp_waterbodies.to_file(get_in_workdir(\"extra_inputs/shp_waterbodies\"))"
   ]
  },
  {
   "cell_type": "markdown",
   "id": "0df9cc55",
   "metadata": {},
   "source": [
    "### 2021 landcover shape file"
   ]
  },
  {
   "cell_type": "code",
   "execution_count": 14,
   "id": "084d3fec",
   "metadata": {},
   "outputs": [],
   "source": [
    "shp_land_cover = read_df_UT(\"workdir/extra_inputs/shp_landcover/shp_landcover.shp\")"
   ]
  },
  {
   "cell_type": "code",
   "execution_count": 15,
   "id": "14826f1b",
   "metadata": {},
   "outputs": [
    {
     "data": {
      "text/plain": [
       "<Geographic 2D CRS: EPSG:4326>\n",
       "Name: WGS 84\n",
       "Axis Info [ellipsoidal]:\n",
       "- Lat[north]: Geodetic latitude (degree)\n",
       "- Lon[east]: Geodetic longitude (degree)\n",
       "Area of Use:\n",
       "- name: World.\n",
       "- bounds: (-180.0, -90.0, 180.0, 90.0)\n",
       "Datum: World Geodetic System 1984 ensemble\n",
       "- Ellipsoid: WGS 84\n",
       "- Prime Meridian: Greenwich"
      ]
     },
     "execution_count": 15,
     "metadata": {},
     "output_type": "execute_result"
    }
   ],
   "source": [
    "shp_land_cover.crs"
   ]
  },
  {
   "cell_type": "code",
   "execution_count": 18,
   "id": "0e2b25bb",
   "metadata": {},
   "outputs": [
    {
     "data": {
      "text/plain": [
       "1    125484\n",
       "2    118354\n",
       "3     78219\n",
       "4     59545\n",
       "7     37498\n",
       "6      6819\n",
       "5      4513\n",
       "0       456\n",
       "Name: DN, dtype: int64"
      ]
     },
     "execution_count": 18,
     "metadata": {},
     "output_type": "execute_result"
    }
   ],
   "source": [
    "shp_land_cover.DN.value_counts()"
   ]
  },
  {
   "cell_type": "code",
   "execution_count": 19,
   "id": "cb0f348b",
   "metadata": {},
   "outputs": [],
   "source": [
    "shp_unused = shp_land_cover[shp_land_cover[\"DN\"]==1]\n",
    "shp_sparseveg = shp_land_cover[shp_land_cover[\"DN\"]==2]\n",
    "shp_cropland = shp_land_cover[shp_land_cover[\"DN\"]==3]\n",
    "shp_forest = shp_land_cover[shp_land_cover[\"DN\"]==4]\n",
    "shp_water_bodies = shp_land_cover[shp_land_cover[\"DN\"]==5]\n",
    "shp_builtup = shp_land_cover[shp_land_cover[\"DN\"]==6]\n",
    "shp_access = shp_land_cover[shp_land_cover[\"DN\"]==7]"
   ]
  },
  {
   "cell_type": "code",
   "execution_count": 21,
   "id": "b48f5df8",
   "metadata": {},
   "outputs": [],
   "source": [
    "shp_unused.reset_index(inplace =True,drop =True)\n",
    "shp_sparseveg.reset_index(inplace =True,drop =True)\n",
    "shp_cropland.reset_index(inplace =True,drop =True)\n",
    "shp_forest.reset_index(inplace =True,drop =True)\n",
    "shp_water_bodies.reset_index(inplace =True,drop =True)\n",
    "shp_builtup.reset_index(inplace =True,drop =True)\n",
    "shp_access.reset_index(inplace =True,drop =True)"
   ]
  },
  {
   "cell_type": "code",
   "execution_count": 23,
   "id": "2868ab99",
   "metadata": {},
   "outputs": [],
   "source": [
    "# shp_unused.to_file(get_in_workdir(\"extra_inputs/shp_unused\"))\n",
    "# shp_sparseveg.to_file(get_in_workdir(\"extra_inputs/shp_sparseveg\"))\n",
    "# shp_cropland.to_file(get_in_workdir(\"extra_inputs/shp_cropland\"))\n",
    "# shp_forest.to_file(get_in_workdir(\"extra_inputs/shp_forest\"))\n",
    "# shp_water_bodies.to_file(get_in_workdir(\"extra_inputs/shp_water_bodies\"))\n",
    "# shp_builtup.to_file(get_in_workdir(\"extra_inputs/shp_builtup\"))\n",
    "# shp_access.to_file(get_in_workdir(\"extra_inputs/shp_access\"))"
   ]
  },
  {
   "cell_type": "markdown",
   "id": "279f7894",
   "metadata": {},
   "source": [
    "## landcover 2020"
   ]
  },
  {
   "cell_type": "code",
   "execution_count": 56,
   "id": "6bc9631b",
   "metadata": {},
   "outputs": [],
   "source": [
    "# shp_unused_20 = read_df_UT(\"land_cover_20/unused/unused.shp\")\n",
    "# shp_sparseveg_20 = read_df_UT(\"land_cover_20/sparseveg/sparseveg.shp\")\n",
    "# shp_cropland_20 = read_df_UT(\"land_cover_20/cropland/cropland.shp\")\n",
    "# shp_forest_20 = read_df_UT(\"land_cover_20/treecover/treecover.shp\")\n",
    "# shp_water_bodies_20 = read_df_UT(\"land_cover_20/waterbodies/waterbodies.shp\")\n",
    "# shp_builtup_20 = read_df_UT(\"land_cover_20/builtup/builtup.shp\")\n",
    "# shp_access_20 =read_df_UT(\"land_cover_20/roads/roads.shp\")"
   ]
  },
  {
   "cell_type": "code",
   "execution_count": 57,
   "id": "63d9b47c",
   "metadata": {},
   "outputs": [],
   "source": [
    "# shp_unused_20 = shp_unused_20[shp_unused_20[\"DN\"]==1]\n",
    "# shp_sparseveg_20 = shp_sparseveg_20[shp_sparseveg_20[\"DN\"]==2]\n",
    "# shp_cropland_20 = shp_cropland_20[shp_cropland_20[\"DN\"]==3]\n",
    "# shp_forest_20 = shp_forest_20[shp_forest_20[\"DN\"]==4]\n",
    "# shp_water_bodies_20 = shp_water_bodies_20[shp_water_bodies_20[\"DN\"]==5]\n",
    "# shp_builtup_20 = shp_builtup_20[shp_builtup_20[\"DN\"]==6]\n",
    "# shp_access_20 = shp_access_20[shp_access_20[\"DN\"]==7]"
   ]
  },
  {
   "cell_type": "code",
   "execution_count": 59,
   "id": "f420ecdf",
   "metadata": {},
   "outputs": [],
   "source": [
    "# shp_unused_20.reset_index(inplace =True,drop =True)\n",
    "# shp_sparseveg_20.reset_index(inplace =True,drop =True)\n",
    "# shp_cropland_20.reset_index(inplace =True,drop =True)\n",
    "# shp_forest_20.reset_index(inplace =True,drop =True)\n",
    "# shp_water_bodies_20.reset_index(inplace =True,drop =True)\n",
    "# shp_builtup_20.reset_index(inplace =True,drop =True)\n",
    "# shp_access_20.reset_index(inplace =True,drop =True)"
   ]
  },
  {
   "cell_type": "code",
   "execution_count": 60,
   "id": "b55b245c",
   "metadata": {},
   "outputs": [],
   "source": [
    "# shp_unused_20 = add_area_and_class(shp_unused_20)"
   ]
  },
  {
   "cell_type": "code",
   "execution_count": 61,
   "id": "28a15885",
   "metadata": {},
   "outputs": [],
   "source": [
    "# shp_sparseveg_20 = add_area_and_class(shp_sparseveg_20)\n",
    "# shp_cropland_20 = add_area_and_class(shp_cropland_20)\n",
    "# shp_forest_20 = add_area_and_class(shp_forest_20)\n",
    "# shp_water_bodies_20 = add_area_and_class(shp_water_bodies_20)\n",
    "# shp_builtup_20 = add_area_and_class(shp_builtup_20)\n",
    "# shp_access_20 = add_area_and_class(shp_access_20)"
   ]
  },
  {
   "cell_type": "code",
   "execution_count": 63,
   "id": "e2a410f7",
   "metadata": {},
   "outputs": [],
   "source": [
    "# shp_unused_20 = shp_unused_20[shp_unused_20[\"area_acres\"] > 1]\n",
    "# shp_sparseveg_20 = shp_sparseveg_20[shp_sparseveg_20[\"area_acres\"]> 1]\n",
    "# shp_cropland_20 = shp_cropland_20[shp_cropland_20[\"area_acres\"]>1]\n",
    "# shp_forest_20 = shp_forest_20[shp_forest_20[\"area_acres\"]>1]\n",
    "# shp_water_bodies_20 = shp_water_bodies_20[shp_water_bodies_20[\"area_acres\"]>1]\n",
    "# shp_builtup_20 = shp_builtup_20[shp_builtup_20[\"area_acres\"]>1]\n",
    "# shp_access_20 = shp_access_20[shp_access_20[\"area_acres\"]>1]"
   ]
  },
  {
   "cell_type": "code",
   "execution_count": 66,
   "id": "c1aa716f",
   "metadata": {},
   "outputs": [],
   "source": [
    "# shp_unused_20.reset_index(inplace =True,drop =True)\n",
    "# shp_sparseveg_20.reset_index(inplace =True,drop =True)\n",
    "# shp_cropland_20.reset_index(inplace =True,drop =True)\n",
    "# shp_forest_20.reset_index(inplace =True,drop =True)\n",
    "# shp_water_bodies_20.reset_index(inplace =True,drop =True)\n",
    "# shp_builtup_20.reset_index(inplace =True,drop =True)\n",
    "# shp_access_20.reset_index(inplace =True,drop =True)"
   ]
  },
  {
   "cell_type": "code",
   "execution_count": 67,
   "id": "04bbf5f8",
   "metadata": {},
   "outputs": [],
   "source": [
    "# shp_unused_20.to_file(get_in_workdir(\"raster/shp_unused_20\"))\n",
    "# shp_sparseveg_20.to_file(get_in_workdir(\"raster/shp_sparseveg_20\"))\n",
    "# shp_cropland_20.to_file(get_in_workdir(\"raster/shp_cropland_20\"))\n",
    "# shp_forest_20.to_file(get_in_workdir(\"raster/shp_forest_20\"))\n",
    "# shp_water_bodies_20.to_file(get_in_workdir(\"raster/shp_water_bodies_20\"))\n",
    "# shp_builtup_20.to_file(get_in_workdir(\"raster/shp_builtup_20\"))\n",
    "# shp_access_20.to_file(get_in_workdir(\"raster/shp_access_20\"))"
   ]
  }
 ],
 "metadata": {
  "jupytext": {
   "formats": "ipynb,py:percent"
  },
  "kernelspec": {
   "display_name": "Python 3 (ipykernel)",
   "language": "python",
   "name": "python3"
  },
  "language_info": {
   "codemirror_mode": {
    "name": "ipython",
    "version": 3
   },
   "file_extension": ".py",
   "mimetype": "text/x-python",
   "name": "python",
   "nbconvert_exporter": "python",
   "pygments_lexer": "ipython3",
   "version": "3.10.6"
  }
 },
 "nbformat": 4,
 "nbformat_minor": 5
}

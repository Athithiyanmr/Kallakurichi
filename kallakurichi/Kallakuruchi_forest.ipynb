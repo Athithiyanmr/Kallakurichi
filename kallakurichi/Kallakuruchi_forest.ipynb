{
 "cells": [
  {
   "cell_type": "markdown",
   "id": "1e0e8bb4",
   "metadata": {},
   "source": [
    "# Kallakurichi Forest report"
   ]
  },
  {
   "cell_type": "code",
   "execution_count": null,
   "id": "5dcc1651",
   "metadata": {},
   "outputs": [],
   "source": [
    "import Input_template\n",
    "from Input_template import *"
   ]
  },
  {
   "cell_type": "markdown",
   "id": "f2713eea",
   "metadata": {},
   "source": [
    "## Defining variables with input paths"
   ]
  },
  {
   "cell_type": "code",
   "execution_count": null,
   "id": "2abac792",
   "metadata": {
    "lines_to_next_cell": 2
   },
   "outputs": [],
   "source": [
    "## boundary files\n",
    "district_boundary = \"workdir/extra_inputs/shp_district/shp_district.shp\"\n",
    "village = \"workdir/extra_inputs/shp_settlement/shp_settlement.shp\"\n",
    "taluk = \"workdir/extra_inputs/shp_taluk/shp_taluk.shp\"\n",
    "## module files\n",
    "theoritical = \"workdir/forest/shp_forest_theo/shp_forest_theo.shp\"\n",
    "technical =\"workdir/forest/shp_forest_tech/shp_forest_tech.shp\"\n",
    "high = \"workdir/forest/shp_forest_high/shp_forest_high.shp\"\n",
    "med  = \"workdir/forest/shp_forest_med/shp_forest_med.shp\"\n",
    "## other module high files\n",
    "water_high = \"workdir/water/shp_water_high/shp_water_high.shp\"\n",
    "solar_high = \"workdir/solar/shp_solar_high/shp_solar_high.shp\"\n",
    "agri_high = \"workdir/agri/shp_agri_high/shp_agri_high.shp\"\n",
    "housing_high = \"workdir/housing/shp_housing_high/shp_housing_high.shp\"\n",
    "industry_high = \"workdir/industry/shp_industry_high/shp_industry_high.shp\"\n",
    "## landcover shape files\n",
    "Unused_land = \"workdir/extra_inputs/Unused/Unused.shp\"\n",
    "Sparseveg = \"workdir/extra_inputs/shp_sparseveg/shp_sparseveg.shp\"\n",
    "Cropland = \"workdir/extra_inputs/shp_cropland/shp_cropland.shp\"\n",
    "Forest = \"workdir/extra_inputs/shp_forest/shp_forest.shp\"\n",
    "Waterbodies = \"workdir/extra_inputs/shp_water_bodies/shp_water_bodies.shp\"\n",
    "builtup =\"workdir/extra_inputs/shp_builtup/shp_builtup.shp\"\n",
    "## dist by size\n",
    "S1 = \"workdir/forest/S1/S1.shp\"\n",
    "S2 = \"workdir/forest/S2/S2.shp\"\n",
    "S3 =\"workdir/forest/S3/S3.shp\"\n",
    "## extra inputs\n",
    "slope = get_rooted(\"workdir/raster/slope.tif\")\n",
    "roads_primary  =  \"workdir/extra_inputs/shp_roads_primary/shp_roads_primary.shp\"\n",
    "roads_secondary = \"workdir/extra_inputs/shp_roads_secondary/shp_roads_secondary.shp\"\n",
    "roads_tertiary  =  \"workdir/extra_inputs/shp_roads_tertiary/shp_roads_tertiary.shp\"\n",
    "railways =\"workdir/extra_inputs/shp_railways/shp_railways.shp\"\n",
    "powerlines= \"workdir/extra_inputs/shp_powerlines/shp_powerlines.shp\"\n",
    "substation = \"workdir/extra_inputs/shp_substations/shp_substations.shp\"\n",
    "population_raster =\"workdir/raster/population_10_lon_70_general-v1.5.tif\""
   ]
  },
  {
   "cell_type": "code",
   "execution_count": null,
   "id": "f4937b5c",
   "metadata": {
    "lines_to_next_cell": 2
   },
   "outputs": [],
   "source": [
    "## boundary files\n",
    "shp_district = read_df_UT(district_boundary)\n",
    "shp_village = read_df_UT(village)\n",
    "shp_taluk = read_df_UT(taluk)\n",
    "## module files\n",
    "shp_forest_theo = read_df_UT(theoritical)\n",
    "shp_forest_tech = read_df_UT(technical)\n",
    "shp_forest_high =read_df_UT(high)\n",
    "shp_forest_med = read_df_UT(med)\n",
    "## other module high files\n",
    "shp_water_high = read_df_UT(water_high)\n",
    "shp_solar_high = read_df_UT(solar_high)\n",
    "shp_agri_high = read_df_UT(agri_high)\n",
    "shp_housing_high = read_df_UT(housing_high)\n",
    "shp_industry_high = read_df_UT(industry_high)\n",
    "## landcover shape files\n",
    "shp_unused = read_df_UT(Unused_land)\n",
    "shp_sparseveg = read_df_UT(Sparseveg)\n",
    "shp_cropland = read_df_UT(Cropland)\n",
    "shp_Forest = read_df_UT(Forest)\n",
    "shp_waterbodies = read_df_UT(Waterbodies)\n",
    "shp_builtup = read_df_UT(builtup)\n",
    "## dist by size\n",
    "S1 = read_df_UT(S1)\n",
    "S2 = read_df_UT(S2)\n",
    "S3 = read_df_UT(S3)\n",
    "## extra inputs\n",
    "shp_roads_primary  =  read_df_UT(roads_primary)\n",
    "shp_roads_secondary = read_df_UT(roads_secondary)\n",
    "shp_railways = read_df_UT(railways)\n",
    "shp_powerlines= read_df_UT(powerlines)\n",
    "shp_substation = read_df_UT(substation)"
   ]
  },
  {
   "cell_type": "markdown",
   "id": "60dce6c6",
   "metadata": {},
   "source": [
    "### Adding area_acres and area_class"
   ]
  },
  {
   "cell_type": "code",
   "execution_count": null,
   "id": "c55ccc4f",
   "metadata": {},
   "outputs": [],
   "source": [
    "shp_forest_theo = add_area_and_class_forest(shp_forest_theo)\n",
    "shp_forest_tech = add_area_and_class_forest(shp_forest_tech)\n",
    "shp_forest_high =add_area_and_class_forest(shp_forest_high)\n",
    "shp_forest_med = add_area_and_class_forest(shp_forest_med)\n",
    "shp_unused = add_area_and_class_forest(shp_unused)"
   ]
  },
  {
   "cell_type": "markdown",
   "id": "11f424a0",
   "metadata": {},
   "source": [
    "## Report Tables"
   ]
  },
  {
   "cell_type": "code",
   "execution_count": null,
   "id": "11c231ce",
   "metadata": {
    "lines_to_next_cell": 2
   },
   "outputs": [],
   "source": [
    "def summarize_data(df, name):\n",
    "    summary = df.groupby(\"area_class\")[\"area_acres\"].agg([\"sum\", \"count\"]).reset_index()\n",
    "    summary.columns = [\"area_class\", f\"{name}_sum\", f\"{name}_count\"]\n",
    "    return summary\n",
    "\n",
    "data_frames = [shp_unused, shp_forest_theo, shp_forest_tech, shp_forest_high, shp_forest_med]\n",
    "data_names = ['unused', 'theo', 'tech', 'high', 'med']\n",
    "\n",
    "summary_dict = {}\n",
    "\n",
    "for df, name in zip(data_frames, data_names):\n",
    "    summary_dict[name] = summarize_data(df, name)\n",
    "\n",
    "merged_summary = summary_dict['unused']\n",
    "for name in data_names[1:]:\n",
    "    merged_summary = pd.merge(merged_summary, summary_dict[name], on=\"area_class\", how=\"outer\")\n",
    "\n",
    "merged_summary = merged_summary.fillna(0)\n",
    "merged_summary"
   ]
  },
  {
   "cell_type": "markdown",
   "id": "f41f2f61",
   "metadata": {},
   "source": [
    "#### Competing Use"
   ]
  },
  {
   "cell_type": "code",
   "execution_count": null,
   "id": "ab50e4ad",
   "metadata": {
    "lines_to_next_cell": 2
   },
   "outputs": [],
   "source": [
    "shp_forest_water= find_overlap(shp_forest_tech,\"water\",shp_water_high)\n",
    "shp_forest_solar = find_overlap(shp_forest_tech,\"solar\",shp_solar_high)\n",
    "shp_forest_agri = find_overlap(shp_forest_tech,\"agri\",shp_agri_high)\n",
    "shp_forest_housing = find_overlap(shp_forest_tech,\"hsing\",shp_housing_high)\n",
    "shp_forest_industry = find_overlap(shp_forest_tech,\"indus\",shp_industry_high)\n",
    "combined = pd.concat([shp_agri_high,shp_industry_high,shp_water_high,shp_solar_high,shp_housing_high])\n",
    "combined.reset_index(inplace =True,drop =True)\n",
    "inter = gpd.overlay(shp_forest_tech,combined,how =\"intersection\",keep_geom_type=True)\n",
    "inter = inter.dissolve()\n",
    "inter = add_area_and_class(inter)\n",
    "data = {\n",
    "    'forest_water': shp_forest_water.oparwater.sum(),\n",
    "    'forest_solar': shp_forest_solar.oparsolar.sum(),\n",
    "    'forest_agri': shp_forest_agri.oparagri.sum(),\n",
    "    'forest_housing': shp_forest_housing.oparhsing.sum(),\n",
    "    'forest_industry': shp_forest_industry.oparindus.sum(),\n",
    "    'Competing use':inter.area_acres.sum(),\n",
    "}\n",
    "competing_use = pd.DataFrame(data, index=[0])\n",
    "competing_use"
   ]
  },
  {
   "cell_type": "code",
   "execution_count": null,
   "id": "57016895",
   "metadata": {},
   "outputs": [],
   "source": [
    "S_list = [S1, S2, S3]\n",
    "\n",
    "overlap_data = {}\n",
    "\n",
    "land_use_categories = ['solar', 'water', 'agri', 'hsing', 'indus']\n",
    "high_dataframes = [shp_solar_high, shp_water_high, shp_agri_high, shp_housing_high, shp_indus_high]\n",
    "\n",
    "for idx, S in enumerate(S_list):\n",
    "    S_op_dict = {}\n",
    "    for category, high_df in zip(land_use_categories, high_dataframes):\n",
    "        S_op_dict[category] = find_overlap(S, category, high_df)\n",
    "    overlap_data[f\"S{idx+1}\"] = S_op_dict\n",
    "\n",
    "data = []\n",
    "for idx, S in enumerate(S_list):\n",
    "    row_data = [\n",
    "        overlap_data[f\"S{idx+1}\"][\"solar\"].oparsolar.sum(),\n",
    "        overlap_data[f\"S{idx+1}\"][\"water\"].oparwater.sum(),\n",
    "        overlap_data[f\"S{idx+1}\"][\"agri\"].oparagri.sum(),\n",
    "        overlap_data[f\"S{idx+1}\"][\"hsing\"].oparhsing.sum(),\n",
    "        overlap_data[f\"S{idx+1}\"][\"indus\"].oparindus.sum()\n",
    "    ]\n",
    "    data.append(row_data)\n",
    "\n",
    "Dist_by_type = pd.DataFrame(data, columns=['solar', 'Water', 'agri', 'housing', 'industry'], index=['S1', 'S2', 'S3'])"
   ]
  },
  {
   "cell_type": "code",
   "execution_count": null,
   "id": "ae9a605f",
   "metadata": {
    "lines_to_next_cell": 2
   },
   "outputs": [],
   "source": [
    "Dist_by_type"
   ]
  },
  {
   "cell_type": "code",
   "execution_count": null,
   "id": "8a91e2e5",
   "metadata": {},
   "outputs": [],
   "source": [
    "largest_plot = shp_forest_tech.area_acres.max()"
   ]
  },
  {
   "cell_type": "code",
   "execution_count": null,
   "id": "82d225e4",
   "metadata": {},
   "outputs": [],
   "source": [
    "largest_plot"
   ]
  },
  {
   "cell_type": "markdown",
   "id": "5cd62236",
   "metadata": {},
   "source": [
    "#### for reference excel file"
   ]
  },
  {
   "cell_type": "code",
   "execution_count": null,
   "id": "bf377454",
   "metadata": {},
   "outputs": [],
   "source": [
    "template = load_workbook(get_rooted('workdir/forest/Forest_temp.xlsx'))\n",
    "ws = template['Sheet1']\n",
    "\n",
    "# Define the ranges where to insert the dataframes\n",
    "ranges = ['A2:K5','A10:E10','B13:F15']\n",
    "\n",
    "# Insert the dataframes into the workbook\n",
    "for x, r in zip([merged_summary,competing_use,Dist_by_type], ranges):\n",
    "    start_col, start_row, end_col, end_row = openpyxl.utils.cell.range_boundaries(r)\n",
    "    for i, row in enumerate(x.values):\n",
    "        for j, value in enumerate(row):\n",
    "            ws.cell(row=start_row + i, column=start_col + j, value=value)\n",
    "ws.cell(row=17, column=2, value=largest_plot)           \n",
    "template.save(get_in_output('forest/Forest_temp_filled.xlsx'))"
   ]
  },
  {
   "cell_type": "markdown",
   "id": "0915a9e4",
   "metadata": {},
   "source": [
    "#### Top 15 \n",
    "\n",
    "###### Assuming high file has > 15 lands\n",
    "###### Assuming centroid is there"
   ]
  },
  {
   "cell_type": "code",
   "execution_count": null,
   "id": "f9b87613",
   "metadata": {
    "lines_to_next_cell": 2
   },
   "outputs": [],
   "source": [
    "shp_forest_high = shp_forest_high.sort_values(by=[\"area_acres\"],ascending = False)\n",
    "shp_forest_high = shp_forest_high[:15]\n",
    "shp_forest_high.reset_index(inplace =True,drop =True)\n",
    "overlap_water = find_overlap(shp_forest_high,\"water\",shp_water_high)\n",
    "overlap_solar = find_overlap(overlap_water,\"solar\",shp_solar_high)\n",
    "overlap_agri = find_overlap(overlap_solar,\"agri\",shp_agri_high)\n",
    "overlap_housing = find_overlap(overlap_agri,\"hsing\",shp_housing_high)\n",
    "overlap_industry = find_overlap(overlap_housing,\"indus\",shp_industry_high)\n",
    "overlap_industry = overlap_industry.to_crs(4326)\n",
    "\n",
    "df = overlap_industry\n",
    "slope = get_rooted(\"workdir/raster/slope.tif\")\n",
    "outputdf = calculate_slope(df, slope)"
   ]
  },
  {
   "cell_type": "code",
   "execution_count": null,
   "id": "d60f24c1",
   "metadata": {},
   "outputs": [],
   "source": [
    "outputdf.columns"
   ]
  },
  {
   "cell_type": "code",
   "execution_count": null,
   "id": "44befbd7",
   "metadata": {},
   "outputs": [],
   "source": [
    "outputdf['coords'] = outputdf['geometry'].apply(lambda x: x.representative_point().coords[:])\n",
    "outputdf['coords'] = [coords[0] for coords in outputdf['coords']]\n",
    "outputdf[\"coords\"].tolist()\n",
    "outputdf[['lat', 'lon']] = gpd.GeoDataFrame(outputdf['coords'].tolist(), index=outputdf.index) "
   ]
  },
  {
   "cell_type": "code",
   "execution_count": null,
   "id": "adcfef06",
   "metadata": {},
   "outputs": [],
   "source": [
    "outputdf_excel = outputdf[[\"lat\",\"lon\",'area_acres', 'area_class', 'op%water', 'oparwater',\n",
    "       'cntwater', 'op%solar', 'oparsolar', 'cntsolar', 'op%agri', 'oparagri',\n",
    "       'cntagri', 'op%hsing', 'oparhsing', 'cnthsing', 'op%indus', 'oparindus',\n",
    "       'cntindus', 'min', 'max', 'mean']]\n",
    "\n",
    "# outputdf_excel.to_excel(get_rooted(\"output/forest/Top15_forest.xlsx\"))"
   ]
  },
  {
   "cell_type": "markdown",
   "id": "95a9d22b",
   "metadata": {},
   "source": [
    "## Visuals"
   ]
  },
  {
   "cell_type": "code",
   "execution_count": null,
   "id": "351acbb8",
   "metadata": {},
   "outputs": [],
   "source": [
    "fig8, ax8 = plt.subplots(figsize=(5, 5))\n",
    "\n",
    "plot_common_features(fig8, ax8)\n",
    "plot_cities(fig8, ax8)\n",
    "\n",
    "\n",
    "shp_district.plot(figsize=(5,5),color=\"none\", ax=ax8, linewidth = 0.5, zorder=5)\n",
    "\n",
    "shp_unused.plot(color=\"#424242\",ax =ax8, label='No Potential')\n",
    "shp_forest_theo.plot(color=\"#15915C\",ax =ax8, label='Theoretical Potential')\n",
    "shp_forest_tech.plot(color=\"#99CC66\",ax =ax8, label='Technical Potential')\n",
    "\n",
    "\n",
    "No_P = mpatches.Patch(color='#424242', label='No potential')\n",
    "Theo_P = mpatches.Patch(color='#15915C', label='Theoretical potential')\n",
    "Tech_P = mpatches.Patch(color='#99CC66', label='Technical potential')\n",
    "    \n",
    "plt.legend(handles = [No_P, Theo_P, Tech_P], loc = 'upper left', bbox_to_anchor=(0.8, 0.2), title = 'Legend\\n', fontsize = 5.5, markerscale = 2, title_fontsize = 5.5, framealpha= 0, borderpad = 0.3, handletextpad = 0.5, handlelength = 1.0)\n",
    "\n",
    "\n",
    "print(plt.rcParams['font.family'])\n",
    "\n",
    "\n",
    "plt.savefig(get_in_output(\"forest/Technical_suitability.jpg\"),dpi =1500)\n",
    "plt.show()"
   ]
  },
  {
   "cell_type": "code",
   "execution_count": null,
   "id": "3d1e3980",
   "metadata": {
    "lines_to_next_cell": 2
   },
   "outputs": [],
   "source": [
    "fig9, ax9 = plt.subplots(figsize=(5, 5))\n",
    "\n",
    "plot_common_features(fig9, ax9)\n",
    "plot_cities(fig9, ax9)\n",
    "\n",
    "\n",
    "shp_district.plot(figsize=(5,5),color=\"none\", ax=ax9, linewidth = 0.5)\n",
    "\n",
    "S1.plot(color=\"#455555\",ax =ax9, label='>2.47 to 20 acres')\n",
    "S2.plot(color=\"#54AD64\",ax =ax9, label='>20 to 100 acres')\n",
    "S3.plot(color=\"#99CC66\",ax =ax9, label='>100 acres')\n",
    "\n",
    "\n",
    "S1 = mpatches.Patch(color='#455555', label='>2.47 to 20 acres')\n",
    "S2 = mpatches.Patch(color='#54AD64', label='>20 to 100 acres')\n",
    "S3 = mpatches.Patch(color='#99CC66', label='>100 acres')\n",
    "    \n",
    "plt.legend(handles = [S1, S2, S3], loc = 'upper left', bbox_to_anchor=(0.8, 0.2), title = 'Legend\\n', fontsize = 5.5, markerscale = 2, title_fontsize = 5.5, framealpha= 0, borderpad = 0.3, handletextpad = 0.5, handlelength = 1.0)\n",
    "\n",
    "print(plt.rcParams['font.family']);\n",
    "\n",
    "\n",
    "plt.savefig(get_in_output(\"forest/Distribution by size.jpg\"),dpi =1500)\n",
    "plt.show()"
   ]
  },
  {
   "cell_type": "code",
   "execution_count": null,
   "id": "fcdc5e08",
   "metadata": {
    "lines_to_next_cell": 2
   },
   "outputs": [],
   "source": [
    "fig10, ax10 = plt.subplots(figsize=(5, 5))\n",
    "\n",
    "plot_common_features(fig10, ax10)\n",
    "plot_cities(fig10, ax10)\n",
    "\n",
    "shp_district.plot(figsize=(5,5),color=\"none\", ax=ax10, linewidth = 0.5, zorder= 1)\n",
    "\n",
    "shp_forest_tech.plot(color=\"#21583B\",ax =ax10, label='Low Potential')\n",
    "shp_forest_med.plot(color=\"#009541\",ax =ax10, label='Medium Potential')\n",
    "shp_forest_high.plot(color=\"#99CC66\",ax =ax10, label='High Potential')\n",
    "\n",
    "\n",
    "Low_P = mpatches.Patch(color='#21583B', label='Low potential')\n",
    "Med_P = mpatches.Patch(color='#009541', label='Medium potential')\n",
    "High_P = mpatches.Patch(color='#99CC66', label='High potential')\n",
    "    \n",
    "plt.legend(handles = [Low_P, Med_P, High_P], loc = 'upper left', bbox_to_anchor=(0.8, 0.2), title = 'Legend\\n', fontsize = 5.5, markerscale = 2, title_fontsize = 5.5, framealpha= 0, borderpad = 0.3, handletextpad = 0.5, handlelength = 1.0)\n",
    "\n",
    "print(plt.rcParams['font.family'])\n",
    "\n",
    "\n",
    "plt.savefig(get_in_output(\"forest/High Potential_H_M_L.jpg\"),dpi =1500)\n",
    "plt.show()"
   ]
  },
  {
   "cell_type": "markdown",
   "id": "7f79e941",
   "metadata": {},
   "source": [
    "## Settlement Analysis"
   ]
  },
  {
   "cell_type": "code",
   "execution_count": null,
   "id": "8b9ff929",
   "metadata": {},
   "outputs": [],
   "source": [
    "popdf = pd.DataFrame()\n",
    "for j in range(len(shp_village)):\n",
    "    input_shp =  get_rooted('temp_f.shp')\n",
    "\n",
    "    selection = shp_village.geometry[j:j+1]\n",
    "    if selection.geometry.is_empty.bool():\n",
    "        rasterarr = []\n",
    "    else:\n",
    "        selection.to_file(input_shp)\n",
    "\n",
    "        input_raster= get_rooted(population_raster)\n",
    "\n",
    "        output_raster =  get_rooted('temp_f.tif')\n",
    "        ds = gdal.Warp(output_raster,\n",
    "                      input_raster,\n",
    "                      format = 'GTiff',\n",
    "                      cutlineDSName = input_shp,\n",
    "                      cropToCutline=True,\n",
    "                      )\n",
    "        ds = None\n",
    "\n",
    "        raster = gdal.Open(output_raster, gdal.GA_ReadOnly)\n",
    "        rasterarr = raster.ReadAsArray()\n",
    "        #Set -9999 as no data values\n",
    "        rasterarr = np.where(rasterarr==-9999, np.nan,rasterarr)\n",
    "        #remove nodata values\n",
    "        rasterarr = rasterarr[~np.isnan(rasterarr)]\n",
    "\n",
    "\n",
    "    if (np.size(rasterarr)==0):\n",
    "        popdf.at[j, \"totpop_ras\"]=0\n",
    "\n",
    "\n",
    "    else:    \n",
    "\n",
    "        pop_sum = rasterarr.sum()\n",
    "\n",
    "        popdf.at[j, \"totpop_ras\"]=pop_sum\n",
    "\n",
    "shp_village_final = pd.concat([shp_village, popdf], axis = 1)"
   ]
  },
  {
   "cell_type": "code",
   "execution_count": null,
   "id": "b3ce17ef",
   "metadata": {},
   "outputs": [],
   "source": [
    "shp_village_final['coords'] = shp_village_final['geometry'].apply(lambda x: x.representative_point().coords[:])\n",
    "shp_village_final['coords'] = [coords[0] for coords in shp_village_final['coords']]\n",
    "shp_village_final[\"coords\"].tolist()\n",
    "shp_village_final[['lat', 'lon']] = gpd.GeoDataFrame(shp_village_final['coords'].tolist(), index=shp_village_final.index) "
   ]
  },
  {
   "cell_type": "code",
   "execution_count": null,
   "id": "8ad10f14",
   "metadata": {},
   "outputs": [],
   "source": [
    "shp_village_final = shp_village_final.to_crs(32644)\n",
    "shp_village_final[\"TGA(acres)\"] = ((shp_village_final.geometry.area)/10**6)*247.105\n",
    "shp_village_final = shp_village_final.to_crs(4326)"
   ]
  },
  {
   "cell_type": "code",
   "execution_count": null,
   "id": "0f14902f",
   "metadata": {},
   "outputs": [],
   "source": [
    "shp_village_tech = find_overlap(shp_village_final,\"tech\",shp_forest_tech)\n",
    "shp_village_tech =  find_overlap(shp_village_tech,\"unused\",shp_unused)"
   ]
  },
  {
   "cell_type": "markdown",
   "id": "5b2946ce",
   "metadata": {},
   "source": [
    "#### add / change inputs "
   ]
  },
  {
   "cell_type": "code",
   "execution_count": null,
   "id": "8ea29318",
   "metadata": {},
   "outputs": [],
   "source": [
    "shp_village_final = shp_village_tech[['p_name','d_name', 'b_name', 'p_name_rd',\n",
    "       'pancha_id', 'block_id_o', 'dist_id', 'district_r', 'gp_code', \"totpop\",\n",
    "       'lat', 'lon', 'totpix', 'f_totarkm2', 'totarkm2', 'fcover%', 'fper1000', 'totpop_ras',\n",
    "       'TGA(acres)', 'op%tech', 'opartech', 'cnttech', 'op%unused',\n",
    "       'oparunused', 'cntunused', 'geometry']]"
   ]
  },
  {
   "cell_type": "code",
   "execution_count": null,
   "id": "6bd0c2f8",
   "metadata": {},
   "outputs": [],
   "source": [
    "# shp_village_final.to_file(get_in_output(\"forest/settlement\"))"
   ]
  },
  {
   "cell_type": "code",
   "execution_count": null,
   "id": "a2860c3f",
   "metadata": {},
   "outputs": [],
   "source": [
    "shp_village = shp_village_tech[['p_name', 'd_name', 'b_name', 'p_name_rd', 'pancha_id', 'block_id_o',\n",
    "       'dist_id', 'district_r', 'gp_code', 'totpop', 'lat', 'lon', 'totpix',\n",
    "       'f_totarkm2', 'totarkm2', 'fcover%', 'fper1000', 'totpop_ras',\n",
    "       'TGA(acres)', 'op%tech', 'opartech', 'cnttech', 'op%unused',\n",
    "       'oparunused', 'cntunused', 'geometry']]"
   ]
  },
  {
   "cell_type": "code",
   "execution_count": null,
   "id": "6800695f",
   "metadata": {},
   "outputs": [],
   "source": [
    "shp_village.sort_values(\"p_name\",inplace =True)"
   ]
  },
  {
   "cell_type": "code",
   "execution_count": null,
   "id": "b826a77d",
   "metadata": {},
   "outputs": [],
   "source": [
    "shp_village.reset_index(drop =True,inplace =True)"
   ]
  },
  {
   "cell_type": "code",
   "execution_count": null,
   "id": "a87aa1db",
   "metadata": {},
   "outputs": [],
   "source": [
    "shp_village.drop(\"geometry\",axis =1,inplace =True)"
   ]
  },
  {
   "cell_type": "code",
   "execution_count": null,
   "id": "f224ca6e",
   "metadata": {},
   "outputs": [],
   "source": [
    "# shp_village.to_excel(get_in_output(\"forest/230517_settlement_ordered.xlsx\"))"
   ]
  },
  {
   "cell_type": "markdown",
   "id": "2601b75b",
   "metadata": {},
   "source": [
    "#### the below code is for clipping "
   ]
  },
  {
   "cell_type": "code",
   "execution_count": null,
   "id": "ac55de93",
   "metadata": {},
   "outputs": [],
   "source": [
    "# shp_village_tech = shp_village_tech[shp_village_tech[\"TGA(acres)\"] > 100]"
   ]
  },
  {
   "cell_type": "markdown",
   "id": "7d8a0b81",
   "metadata": {},
   "source": [
    "### Visuals"
   ]
  },
  {
   "cell_type": "code",
   "execution_count": null,
   "id": "820b5e1e",
   "metadata": {},
   "outputs": [],
   "source": [
    "settlement_final = read_df_UT(\"output/forest/settlement/settlement.shp\")"
   ]
  },
  {
   "cell_type": "code",
   "execution_count": null,
   "id": "0ff40f8e",
   "metadata": {},
   "outputs": [],
   "source": [
    "settlement_final.columns"
   ]
  },
  {
   "cell_type": "code",
   "execution_count": null,
   "id": "6d28e066",
   "metadata": {},
   "outputs": [],
   "source": [
    "C1 = LinearSegmentedColormap.from_list('testCmap1', colors=[\"#F5FAF7\", \"#A4EDC1\", \"#46C779\", \"#149169\", \"#306151\"], N=256)"
   ]
  },
  {
   "cell_type": "code",
   "execution_count": null,
   "id": "5f784426",
   "metadata": {},
   "outputs": [],
   "source": [
    "fig, ax = plt.subplots(figsize=(5, 5))\n",
    "\n",
    "plot_common_features(fig, ax)  # assuming this function is defined elsewhere\n",
    "\n",
    "shp_district.plot(figsize=(5,5), color=\"none\", ax=ax, linewidth=0.5, zorder=5)\n",
    "settlement_final.plot(column='op%tech', cmap=C1, ax=ax)\n",
    "a = settlement_final[\"op%tech\"].min()\n",
    "b = settlement_final[\"op%tech\"].max()\n",
    "sm = plt.cm.ScalarMappable(cmap=C1)\n",
    "cbaxes = fig.add_axes([0.7, 0.18, 0.2, 0.02]) \n",
    "cbar = plt.colorbar(sm, orientation = 'horizontal', cax=cbaxes, shrink = 0.2)\n",
    "cbar.mappable.set_clim(vmin = a, vmax = b)\n",
    "cbar.ax.tick_params(labelsize=3, color = 'grey')\n",
    "cbar.outline.set_visible(False)\n",
    "cbar.ax.set_title('Technical potential area(%)\\n per settlement', fontsize=5)\n",
    "\n",
    "plt.savefig(get_in_output(\"forest/Technical potential area(%).jpg\"),dpi =1500)\n",
    "plt.show()"
   ]
  },
  {
   "cell_type": "markdown",
   "id": "0b19fd74",
   "metadata": {},
   "source": [
    "## Taluk"
   ]
  },
  {
   "cell_type": "markdown",
   "id": "55e70f67",
   "metadata": {},
   "source": [
    "same as settlement except with taluk boundaries"
   ]
  },
  {
   "cell_type": "code",
   "execution_count": null,
   "id": "e4a21511",
   "metadata": {},
   "outputs": [],
   "source": [
    "shp_taluk = read_df_UT('workdir/extra_inputs/shp_taluk/shp_taluk.shp')"
   ]
  },
  {
   "cell_type": "code",
   "execution_count": null,
   "id": "1df0cbdc",
   "metadata": {},
   "outputs": [],
   "source": [
    "shp_taluk = gpd.overlay(shp_district, shp_taluk, how ='intersection')"
   ]
  },
  {
   "cell_type": "code",
   "execution_count": null,
   "id": "52aca4e5",
   "metadata": {},
   "outputs": [],
   "source": [
    "popdf = pd.DataFrame()\n",
    "for j in range(len(shp_taluk)):\n",
    "    input_shp =  get_rooted('temp5.shp')\n",
    "\n",
    "    selection = shp_taluk.geometry[j:j+1]\n",
    "    if selection.geometry.is_empty.bool():\n",
    "        rasterarr = []\n",
    "    else:\n",
    "        selection.to_file(input_shp)\n",
    "\n",
    "        input_raster= get_rooted(population_raster)\n",
    "\n",
    "        output_raster =  get_rooted('temp5.tiff')\n",
    "        ds = gdal.Warp(output_raster,\n",
    "                      input_raster,\n",
    "                      format = 'GTiff',\n",
    "                      cutlineDSName = input_shp,\n",
    "                      cropToCutline=True,\n",
    "                      )\n",
    "        ds = None\n",
    "\n",
    "        raster = gdal.Open(output_raster, gdal.GA_ReadOnly)\n",
    "        rasterarr = raster.ReadAsArray()\n",
    "        #Set -9999 as no data values\n",
    "        rasterarr = np.where(rasterarr==-9999, np.nan,rasterarr)\n",
    "        #remove nodata values\n",
    "        rasterarr = rasterarr[~np.isnan(rasterarr)]\n",
    "\n",
    "\n",
    "    if (np.size(rasterarr)==0):\n",
    "        popdf.at[j, \"totpop_ras\"]=0\n",
    "\n",
    "\n",
    "    else:    \n",
    "\n",
    "        pop_sum = rasterarr.sum()\n",
    "\n",
    "        popdf.at[j, \"totpop_ras\"]=pop_sum\n",
    "\n",
    "shp_taluk_final = pd.concat([shp_taluk, popdf], axis = 1)"
   ]
  },
  {
   "cell_type": "code",
   "execution_count": null,
   "id": "30b58b74",
   "metadata": {},
   "outputs": [],
   "source": [
    "shp_taluk_final['coords'] = shp_taluk_final['geometry'].apply(lambda x: x.representative_point().coords[:])\n",
    "shp_taluk_final['coords'] = [coords[0] for coords in shp_taluk_final['coords']]\n",
    "shp_taluk_final[\"coords\"].tolist()\n",
    "shp_taluk_final[['lat', 'lon']] = gpd.GeoDataFrame(shp_taluk_final['coords'].tolist(), index=shp_taluk_final.index) "
   ]
  },
  {
   "cell_type": "code",
   "execution_count": null,
   "id": "3d1cc080",
   "metadata": {},
   "outputs": [],
   "source": [
    "shp_taluk_final = shp_taluk_final.to_crs(32644)\n",
    "shp_taluk_final[\"TGA(acres)\"] = ((shp_taluk_final.geometry.area)/10**6)*247.105\n",
    "shp_taluk_final = shp_taluk_final.to_crs(4326)"
   ]
  },
  {
   "cell_type": "code",
   "execution_count": null,
   "id": "dc9816f4",
   "metadata": {
    "lines_to_next_cell": 2
   },
   "outputs": [],
   "source": [
    "shp_taluk_tech = find_overlap(shp_taluk_final,\"tech\",shp_forest_tech)"
   ]
  },
  {
   "cell_type": "code",
   "execution_count": null,
   "id": "93b94270",
   "metadata": {},
   "outputs": [],
   "source": [
    "shp_taluk_tech = shp_taluk_tech.to_crs(4326)"
   ]
  },
  {
   "cell_type": "code",
   "execution_count": null,
   "id": "4bcbe526",
   "metadata": {},
   "outputs": [],
   "source": [
    "shp_taluk_tech= shp_taluk_tech[['Taluk_name','lat', 'lon','totpop_ras',\n",
    "       'TGA(acres)', 'op%tech','opartech', 'cnttech', 'geometry']]"
   ]
  },
  {
   "cell_type": "code",
   "execution_count": null,
   "id": "7de431d3",
   "metadata": {},
   "outputs": [],
   "source": [
    "shp_taluk_tech = shp_taluk_tech.to_crs(4326)"
   ]
  },
  {
   "cell_type": "code",
   "execution_count": null,
   "id": "a9781f45",
   "metadata": {},
   "outputs": [],
   "source": [
    "shp_taluk_tech.to_file(get_in_output(\"forest/shp_taluk_tech\"))"
   ]
  },
  {
   "cell_type": "code",
   "execution_count": null,
   "id": "cc804472",
   "metadata": {},
   "outputs": [],
   "source": [
    "shp_taluk_tech.columns"
   ]
  },
  {
   "cell_type": "code",
   "execution_count": null,
   "id": "353f19a4",
   "metadata": {},
   "outputs": [],
   "source": [
    "shp_taluk_tech.drop(\"geometry\", axis = 1)\n",
    "# shp_taluk_tech.to_excel(get_in_output(\"forest/Taluk_forest.xlsx\"))"
   ]
  }
 ],
 "metadata": {
  "jupytext": {
   "cell_metadata_filter": "-all",
   "encoding": "# coding: utf-8",
   "executable": "/usr/bin/env python",
   "formats": "auto:percent,ipynb",
   "notebook_metadata_filter": "-all"
  },
  "kernelspec": {
   "display_name": "Python 3 (ipykernel)",
   "language": "python",
   "name": "python3"
  },
  "language_info": {
   "codemirror_mode": {
    "name": "ipython",
    "version": 3
   },
   "file_extension": ".py",
   "mimetype": "text/x-python",
   "name": "python",
   "nbconvert_exporter": "python",
   "pygments_lexer": "ipython3",
   "version": "3.10.6"
  }
 },
 "nbformat": 4,
 "nbformat_minor": 5
}
